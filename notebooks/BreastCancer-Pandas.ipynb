{
 "cells": [
  {
   "cell_type": "code",
   "execution_count": 84,
   "metadata": {},
   "outputs": [],
   "source": [
    "%matplotlib inline\n",
    "import matplotlib.pyplot as plt\n",
    "import numpy as np\n",
    "import pandas as pd\n",
    "import seaborn as sns\n",
    "\n",
    "sns.set()"
   ]
  },
  {
   "cell_type": "markdown",
   "metadata": {},
   "source": [
    "# 1 - Loading the data"
   ]
  },
  {
   "cell_type": "raw",
   "metadata": {},
   "source": [
    "From breast-cancer-wisconsin.names\n",
    "\n",
    "    #  Attribute                     Domain\n",
    "   -- -----------------------------------------\n",
    "   1. Sample code number            id number\n",
    "   2. Clump Thickness               1 - 10\n",
    "   3. Uniformity of Cell Size       1 - 10\n",
    "   4. Uniformity of Cell Shape      1 - 10\n",
    "   5. Marginal Adhesion             1 - 10\n",
    "   6. Single Epithelial Cell Size   1 - 10\n",
    "   7. Bare Nuclei                   1 - 10\n",
    "   8. Bland Chromatin               1 - 10\n",
    "   9. Normal Nucleoli               1 - 10\n",
    "  10. Mitoses                       1 - 10\n",
    "  11. Class:                        (2 for benign, 4 for malignant)\n"
   ]
  },
  {
   "cell_type": "code",
   "execution_count": 85,
   "metadata": {
    "scrolled": false
   },
   "outputs": [
    {
     "data": {
      "text/html": [
       "<div>\n",
       "<style scoped>\n",
       "    .dataframe tbody tr th:only-of-type {\n",
       "        vertical-align: middle;\n",
       "    }\n",
       "\n",
       "    .dataframe tbody tr th {\n",
       "        vertical-align: top;\n",
       "    }\n",
       "\n",
       "    .dataframe thead th {\n",
       "        text-align: right;\n",
       "    }\n",
       "</style>\n",
       "<table border=\"1\" class=\"dataframe\">\n",
       "  <thead>\n",
       "    <tr style=\"text-align: right;\">\n",
       "      <th></th>\n",
       "      <th>Sample code number</th>\n",
       "      <th>Clump Thickness</th>\n",
       "      <th>Uniformity of Cell Size</th>\n",
       "      <th>Uniformity of Cell Shape</th>\n",
       "      <th>Marginal Adhesion</th>\n",
       "      <th>Single Epithelial Cell Size</th>\n",
       "      <th>Bare Nuclei</th>\n",
       "      <th>Bland Chromatin</th>\n",
       "      <th>Normal Nucleoli</th>\n",
       "      <th>Mitoses</th>\n",
       "      <th>Class</th>\n",
       "    </tr>\n",
       "  </thead>\n",
       "  <tbody>\n",
       "    <tr>\n",
       "      <td>0</td>\n",
       "      <td>1000025</td>\n",
       "      <td>5</td>\n",
       "      <td>1</td>\n",
       "      <td>1</td>\n",
       "      <td>1</td>\n",
       "      <td>2</td>\n",
       "      <td>1</td>\n",
       "      <td>3</td>\n",
       "      <td>1</td>\n",
       "      <td>1</td>\n",
       "      <td>2</td>\n",
       "    </tr>\n",
       "    <tr>\n",
       "      <td>1</td>\n",
       "      <td>1002945</td>\n",
       "      <td>5</td>\n",
       "      <td>4</td>\n",
       "      <td>4</td>\n",
       "      <td>5</td>\n",
       "      <td>7</td>\n",
       "      <td>10</td>\n",
       "      <td>3</td>\n",
       "      <td>2</td>\n",
       "      <td>1</td>\n",
       "      <td>2</td>\n",
       "    </tr>\n",
       "    <tr>\n",
       "      <td>2</td>\n",
       "      <td>1015425</td>\n",
       "      <td>3</td>\n",
       "      <td>1</td>\n",
       "      <td>1</td>\n",
       "      <td>1</td>\n",
       "      <td>2</td>\n",
       "      <td>2</td>\n",
       "      <td>3</td>\n",
       "      <td>1</td>\n",
       "      <td>1</td>\n",
       "      <td>2</td>\n",
       "    </tr>\n",
       "    <tr>\n",
       "      <td>3</td>\n",
       "      <td>1016277</td>\n",
       "      <td>6</td>\n",
       "      <td>8</td>\n",
       "      <td>8</td>\n",
       "      <td>1</td>\n",
       "      <td>3</td>\n",
       "      <td>4</td>\n",
       "      <td>3</td>\n",
       "      <td>7</td>\n",
       "      <td>1</td>\n",
       "      <td>2</td>\n",
       "    </tr>\n",
       "    <tr>\n",
       "      <td>4</td>\n",
       "      <td>1017023</td>\n",
       "      <td>4</td>\n",
       "      <td>1</td>\n",
       "      <td>1</td>\n",
       "      <td>3</td>\n",
       "      <td>2</td>\n",
       "      <td>1</td>\n",
       "      <td>3</td>\n",
       "      <td>1</td>\n",
       "      <td>1</td>\n",
       "      <td>2</td>\n",
       "    </tr>\n",
       "  </tbody>\n",
       "</table>\n",
       "</div>"
      ],
      "text/plain": [
       "   Sample code number  Clump Thickness  Uniformity of Cell Size  \\\n",
       "0             1000025                5                        1   \n",
       "1             1002945                5                        4   \n",
       "2             1015425                3                        1   \n",
       "3             1016277                6                        8   \n",
       "4             1017023                4                        1   \n",
       "\n",
       "   Uniformity of Cell Shape  Marginal Adhesion  Single Epithelial Cell Size  \\\n",
       "0                         1                  1                            2   \n",
       "1                         4                  5                            7   \n",
       "2                         1                  1                            2   \n",
       "3                         8                  1                            3   \n",
       "4                         1                  3                            2   \n",
       "\n",
       "  Bare Nuclei  Bland Chromatin  Normal Nucleoli  Mitoses  Class  \n",
       "0           1                3                1        1      2  \n",
       "1          10                3                2        1      2  \n",
       "2           2                3                1        1      2  \n",
       "3           4                3                7        1      2  \n",
       "4           1                3                1        1      2  "
      ]
     },
     "execution_count": 85,
     "metadata": {},
     "output_type": "execute_result"
    }
   ],
   "source": [
    "file_path = '../data/breast-cancer-wisconsin/breast-cancer-wisconsin.data'\n",
    "header    = ['Sample code number', 'Clump Thickness', 'Uniformity of Cell Size',\n",
    "             'Uniformity of Cell Shape', 'Marginal Adhesion','Single Epithelial Cell Size',\n",
    "             'Bare Nuclei', 'Bland Chromatin', 'Normal Nucleoli', 'Mitoses', 'Class']\n",
    "raw_data  = pd.read_csv(file_path, names=header)\n",
    "raw_data.head(5)"
   ]
  },
  {
   "cell_type": "markdown",
   "metadata": {},
   "source": [
    "# 2 - Cleaning the data"
   ]
  },
  {
   "cell_type": "markdown",
   "metadata": {},
   "source": [
    "For this particular dataset, the cleaning steps will consist of:\n",
    "\n",
    "1. Flagging and deleting rows containing missing values, if any\n",
    "2. Flagging each cell that is not a float \n",
    "3. Flagging and deleting duplicate rows, if any\n",
    "4. Flagging and flagging outliers in the data\n",
    "5. Flagging data outside the range specified by the file description [0-10]\n",
    "6. Deleting flagged errors\n",
    "\n",
    "The different flags will be:\n",
    "\n",
    "- 'ok' (no issue found with row)\n",
    "- 'not a float'\n",
    "- 'duplicate'\n",
    "- 'out of range'\n",
    "- 'potential outlier'"
   ]
  },
  {
   "cell_type": "code",
   "execution_count": 86,
   "metadata": {},
   "outputs": [
    {
     "data": {
      "text/html": [
       "<div>\n",
       "<style scoped>\n",
       "    .dataframe tbody tr th:only-of-type {\n",
       "        vertical-align: middle;\n",
       "    }\n",
       "\n",
       "    .dataframe tbody tr th {\n",
       "        vertical-align: top;\n",
       "    }\n",
       "\n",
       "    .dataframe thead th {\n",
       "        text-align: right;\n",
       "    }\n",
       "</style>\n",
       "<table border=\"1\" class=\"dataframe\">\n",
       "  <thead>\n",
       "    <tr style=\"text-align: right;\">\n",
       "      <th></th>\n",
       "      <th>Sample code number</th>\n",
       "      <th>Clump Thickness</th>\n",
       "      <th>Uniformity of Cell Size</th>\n",
       "      <th>Uniformity of Cell Shape</th>\n",
       "      <th>Marginal Adhesion</th>\n",
       "      <th>Single Epithelial Cell Size</th>\n",
       "      <th>Bare Nuclei</th>\n",
       "      <th>Bland Chromatin</th>\n",
       "      <th>Normal Nucleoli</th>\n",
       "      <th>Mitoses</th>\n",
       "      <th>Class</th>\n",
       "      <th>flag</th>\n",
       "    </tr>\n",
       "  </thead>\n",
       "  <tbody>\n",
       "    <tr>\n",
       "      <td>0</td>\n",
       "      <td>1000025</td>\n",
       "      <td>5</td>\n",
       "      <td>1</td>\n",
       "      <td>1</td>\n",
       "      <td>1</td>\n",
       "      <td>2</td>\n",
       "      <td>1</td>\n",
       "      <td>3</td>\n",
       "      <td>1</td>\n",
       "      <td>1</td>\n",
       "      <td>2</td>\n",
       "      <td>ok</td>\n",
       "    </tr>\n",
       "    <tr>\n",
       "      <td>1</td>\n",
       "      <td>1002945</td>\n",
       "      <td>5</td>\n",
       "      <td>4</td>\n",
       "      <td>4</td>\n",
       "      <td>5</td>\n",
       "      <td>7</td>\n",
       "      <td>10</td>\n",
       "      <td>3</td>\n",
       "      <td>2</td>\n",
       "      <td>1</td>\n",
       "      <td>2</td>\n",
       "      <td>ok</td>\n",
       "    </tr>\n",
       "    <tr>\n",
       "      <td>2</td>\n",
       "      <td>1015425</td>\n",
       "      <td>3</td>\n",
       "      <td>1</td>\n",
       "      <td>1</td>\n",
       "      <td>1</td>\n",
       "      <td>2</td>\n",
       "      <td>2</td>\n",
       "      <td>3</td>\n",
       "      <td>1</td>\n",
       "      <td>1</td>\n",
       "      <td>2</td>\n",
       "      <td>ok</td>\n",
       "    </tr>\n",
       "    <tr>\n",
       "      <td>3</td>\n",
       "      <td>1016277</td>\n",
       "      <td>6</td>\n",
       "      <td>8</td>\n",
       "      <td>8</td>\n",
       "      <td>1</td>\n",
       "      <td>3</td>\n",
       "      <td>4</td>\n",
       "      <td>3</td>\n",
       "      <td>7</td>\n",
       "      <td>1</td>\n",
       "      <td>2</td>\n",
       "      <td>ok</td>\n",
       "    </tr>\n",
       "    <tr>\n",
       "      <td>4</td>\n",
       "      <td>1017023</td>\n",
       "      <td>4</td>\n",
       "      <td>1</td>\n",
       "      <td>1</td>\n",
       "      <td>3</td>\n",
       "      <td>2</td>\n",
       "      <td>1</td>\n",
       "      <td>3</td>\n",
       "      <td>1</td>\n",
       "      <td>1</td>\n",
       "      <td>2</td>\n",
       "      <td>ok</td>\n",
       "    </tr>\n",
       "  </tbody>\n",
       "</table>\n",
       "</div>"
      ],
      "text/plain": [
       "   Sample code number  Clump Thickness  Uniformity of Cell Size  \\\n",
       "0             1000025                5                        1   \n",
       "1             1002945                5                        4   \n",
       "2             1015425                3                        1   \n",
       "3             1016277                6                        8   \n",
       "4             1017023                4                        1   \n",
       "\n",
       "   Uniformity of Cell Shape  Marginal Adhesion  Single Epithelial Cell Size  \\\n",
       "0                         1                  1                            2   \n",
       "1                         4                  5                            7   \n",
       "2                         1                  1                            2   \n",
       "3                         8                  1                            3   \n",
       "4                         1                  3                            2   \n",
       "\n",
       "  Bare Nuclei  Bland Chromatin  Normal Nucleoli  Mitoses  Class flag  \n",
       "0           1                3                1        1      2   ok  \n",
       "1          10                3                2        1      2   ok  \n",
       "2           2                3                1        1      2   ok  \n",
       "3           4                3                7        1      2   ok  \n",
       "4           1                3                1        1      2   ok  "
      ]
     },
     "execution_count": 86,
     "metadata": {},
     "output_type": "execute_result"
    }
   ],
   "source": [
    "# Add a flag column to the pandas dataset, will be used to flag potential problems in the data\n",
    "raw_data['flag'] = 'ok' # by default, flag everything as OK, this may change as problems are found\n",
    "raw_data.head(5)"
   ]
  },
  {
   "cell_type": "code",
   "execution_count": 87,
   "metadata": {},
   "outputs": [
    {
     "name": "stdout",
     "output_type": "stream",
     "text": [
      "['Clump Thickness', 'Uniformity of Cell Size', 'Uniformity of Cell Shape', 'Marginal Adhesion', 'Single Epithelial Cell Size', 'Bare Nuclei', 'Bland Chromatin', 'Normal Nucleoli', 'Mitoses', 'Class']\n"
     ]
    }
   ],
   "source": [
    "columns_to_clean = [c for c in raw_data.columns if c not in ['flag', 'Sample code number']]\n",
    "print(columns_to_clean)"
   ]
  },
  {
   "cell_type": "markdown",
   "metadata": {},
   "source": [
    "### 1 - Flag missing values"
   ]
  },
  {
   "cell_type": "code",
   "execution_count": 88,
   "metadata": {},
   "outputs": [
    {
     "name": "stdout",
     "output_type": "stream",
     "text": [
      "Sample code number             0\n",
      "Clump Thickness                0\n",
      "Uniformity of Cell Size        0\n",
      "Uniformity of Cell Shape       0\n",
      "Marginal Adhesion              0\n",
      "Single Epithelial Cell Size    0\n",
      "Bare Nuclei                    0\n",
      "Bland Chromatin                0\n",
      "Normal Nucleoli                0\n",
      "Mitoses                        0\n",
      "Class                          0\n",
      "flag                           0\n",
      "dtype: int64\n"
     ]
    }
   ],
   "source": [
    "def flag_missing(df):\n",
    "    print(df.isna().sum())\n",
    "    \n",
    "flag_missing(raw_data)"
   ]
  },
  {
   "cell_type": "markdown",
   "metadata": {},
   "source": [
    "As we can see above, there are no NaN values in the red wine dataframe. We can move to the next step."
   ]
  },
  {
   "cell_type": "markdown",
   "metadata": {},
   "source": [
    "### 2 - Make sure every cell is numeric"
   ]
  },
  {
   "cell_type": "markdown",
   "metadata": {},
   "source": [
    "Here we have to check delete the columns that contain non-float values before we can proceed to out of range and outlier detection"
   ]
  },
  {
   "cell_type": "code",
   "execution_count": 89,
   "metadata": {},
   "outputs": [
    {
     "data": {
      "text/html": [
       "<div>\n",
       "<style scoped>\n",
       "    .dataframe tbody tr th:only-of-type {\n",
       "        vertical-align: middle;\n",
       "    }\n",
       "\n",
       "    .dataframe tbody tr th {\n",
       "        vertical-align: top;\n",
       "    }\n",
       "\n",
       "    .dataframe thead th {\n",
       "        text-align: right;\n",
       "    }\n",
       "</style>\n",
       "<table border=\"1\" class=\"dataframe\">\n",
       "  <thead>\n",
       "    <tr style=\"text-align: right;\">\n",
       "      <th></th>\n",
       "      <th>Sample code number</th>\n",
       "      <th>Clump Thickness</th>\n",
       "      <th>Uniformity of Cell Size</th>\n",
       "      <th>Uniformity of Cell Shape</th>\n",
       "      <th>Marginal Adhesion</th>\n",
       "      <th>Single Epithelial Cell Size</th>\n",
       "      <th>Bare Nuclei</th>\n",
       "      <th>Bland Chromatin</th>\n",
       "      <th>Normal Nucleoli</th>\n",
       "      <th>Mitoses</th>\n",
       "      <th>Class</th>\n",
       "      <th>flag</th>\n",
       "    </tr>\n",
       "  </thead>\n",
       "  <tbody>\n",
       "    <tr>\n",
       "      <td>23</td>\n",
       "      <td>1057013</td>\n",
       "      <td>8</td>\n",
       "      <td>4</td>\n",
       "      <td>5</td>\n",
       "      <td>1</td>\n",
       "      <td>2</td>\n",
       "      <td>?</td>\n",
       "      <td>7</td>\n",
       "      <td>3</td>\n",
       "      <td>1</td>\n",
       "      <td>4</td>\n",
       "      <td>not a float</td>\n",
       "    </tr>\n",
       "    <tr>\n",
       "      <td>40</td>\n",
       "      <td>1096800</td>\n",
       "      <td>6</td>\n",
       "      <td>6</td>\n",
       "      <td>6</td>\n",
       "      <td>9</td>\n",
       "      <td>6</td>\n",
       "      <td>?</td>\n",
       "      <td>7</td>\n",
       "      <td>8</td>\n",
       "      <td>1</td>\n",
       "      <td>2</td>\n",
       "      <td>not a float</td>\n",
       "    </tr>\n",
       "    <tr>\n",
       "      <td>139</td>\n",
       "      <td>1183246</td>\n",
       "      <td>1</td>\n",
       "      <td>1</td>\n",
       "      <td>1</td>\n",
       "      <td>1</td>\n",
       "      <td>1</td>\n",
       "      <td>?</td>\n",
       "      <td>2</td>\n",
       "      <td>1</td>\n",
       "      <td>1</td>\n",
       "      <td>2</td>\n",
       "      <td>not a float</td>\n",
       "    </tr>\n",
       "    <tr>\n",
       "      <td>145</td>\n",
       "      <td>1184840</td>\n",
       "      <td>1</td>\n",
       "      <td>1</td>\n",
       "      <td>3</td>\n",
       "      <td>1</td>\n",
       "      <td>2</td>\n",
       "      <td>?</td>\n",
       "      <td>2</td>\n",
       "      <td>1</td>\n",
       "      <td>1</td>\n",
       "      <td>2</td>\n",
       "      <td>not a float</td>\n",
       "    </tr>\n",
       "    <tr>\n",
       "      <td>158</td>\n",
       "      <td>1193683</td>\n",
       "      <td>1</td>\n",
       "      <td>1</td>\n",
       "      <td>2</td>\n",
       "      <td>1</td>\n",
       "      <td>3</td>\n",
       "      <td>?</td>\n",
       "      <td>1</td>\n",
       "      <td>1</td>\n",
       "      <td>1</td>\n",
       "      <td>2</td>\n",
       "      <td>not a float</td>\n",
       "    </tr>\n",
       "  </tbody>\n",
       "</table>\n",
       "</div>"
      ],
      "text/plain": [
       "     Sample code number  Clump Thickness  Uniformity of Cell Size  \\\n",
       "23              1057013                8                        4   \n",
       "40              1096800                6                        6   \n",
       "139             1183246                1                        1   \n",
       "145             1184840                1                        1   \n",
       "158             1193683                1                        1   \n",
       "\n",
       "     Uniformity of Cell Shape  Marginal Adhesion  Single Epithelial Cell Size  \\\n",
       "23                          5                  1                            2   \n",
       "40                          6                  9                            6   \n",
       "139                         1                  1                            1   \n",
       "145                         3                  1                            2   \n",
       "158                         2                  1                            3   \n",
       "\n",
       "    Bare Nuclei  Bland Chromatin  Normal Nucleoli  Mitoses  Class         flag  \n",
       "23            ?                7                3        1      4  not a float  \n",
       "40            ?                7                8        1      2  not a float  \n",
       "139           ?                2                1        1      2  not a float  \n",
       "145           ?                2                1        1      2  not a float  \n",
       "158           ?                1                1        1      2  not a float  "
      ]
     },
     "execution_count": 89,
     "metadata": {},
     "output_type": "execute_result"
    }
   ],
   "source": [
    "def isFloat(string):\n",
    "    try:\n",
    "        float(string)\n",
    "        return True\n",
    "    except ValueError:\n",
    "        return False\n",
    "    \n",
    "def flag_not_float(df, column):\n",
    "    for i in df.index:\n",
    "        if not isFloat(df[column][i]):\n",
    "            df.at[i, 'flag'] = 'not a float'\n",
    "    return df\n",
    "\n",
    "# Test that all columns are made of float values\n",
    "for column in columns_to_clean:\n",
    "    raw_data = flag_not_float(raw_data, column)\n",
    "    \n",
    "raw_data[raw_data['flag'] == 'not a float'].head()"
   ]
  },
  {
   "cell_type": "markdown",
   "metadata": {},
   "source": [
    "Deleting rows containing values that are not floats"
   ]
  },
  {
   "cell_type": "code",
   "execution_count": 90,
   "metadata": {},
   "outputs": [
    {
     "data": {
      "text/html": [
       "<div>\n",
       "<style scoped>\n",
       "    .dataframe tbody tr th:only-of-type {\n",
       "        vertical-align: middle;\n",
       "    }\n",
       "\n",
       "    .dataframe tbody tr th {\n",
       "        vertical-align: top;\n",
       "    }\n",
       "\n",
       "    .dataframe thead th {\n",
       "        text-align: right;\n",
       "    }\n",
       "</style>\n",
       "<table border=\"1\" class=\"dataframe\">\n",
       "  <thead>\n",
       "    <tr style=\"text-align: right;\">\n",
       "      <th></th>\n",
       "      <th>Sample code number</th>\n",
       "      <th>Clump Thickness</th>\n",
       "      <th>Uniformity of Cell Size</th>\n",
       "      <th>Uniformity of Cell Shape</th>\n",
       "      <th>Marginal Adhesion</th>\n",
       "      <th>Single Epithelial Cell Size</th>\n",
       "      <th>Bare Nuclei</th>\n",
       "      <th>Bland Chromatin</th>\n",
       "      <th>Normal Nucleoli</th>\n",
       "      <th>Mitoses</th>\n",
       "      <th>Class</th>\n",
       "      <th>flag</th>\n",
       "    </tr>\n",
       "  </thead>\n",
       "  <tbody>\n",
       "    <tr>\n",
       "      <td>0</td>\n",
       "      <td>1000025</td>\n",
       "      <td>5</td>\n",
       "      <td>1</td>\n",
       "      <td>1</td>\n",
       "      <td>1</td>\n",
       "      <td>2</td>\n",
       "      <td>1</td>\n",
       "      <td>3</td>\n",
       "      <td>1</td>\n",
       "      <td>1</td>\n",
       "      <td>2</td>\n",
       "      <td>ok</td>\n",
       "    </tr>\n",
       "    <tr>\n",
       "      <td>1</td>\n",
       "      <td>1002945</td>\n",
       "      <td>5</td>\n",
       "      <td>4</td>\n",
       "      <td>4</td>\n",
       "      <td>5</td>\n",
       "      <td>7</td>\n",
       "      <td>10</td>\n",
       "      <td>3</td>\n",
       "      <td>2</td>\n",
       "      <td>1</td>\n",
       "      <td>2</td>\n",
       "      <td>ok</td>\n",
       "    </tr>\n",
       "    <tr>\n",
       "      <td>2</td>\n",
       "      <td>1015425</td>\n",
       "      <td>3</td>\n",
       "      <td>1</td>\n",
       "      <td>1</td>\n",
       "      <td>1</td>\n",
       "      <td>2</td>\n",
       "      <td>2</td>\n",
       "      <td>3</td>\n",
       "      <td>1</td>\n",
       "      <td>1</td>\n",
       "      <td>2</td>\n",
       "      <td>ok</td>\n",
       "    </tr>\n",
       "    <tr>\n",
       "      <td>3</td>\n",
       "      <td>1016277</td>\n",
       "      <td>6</td>\n",
       "      <td>8</td>\n",
       "      <td>8</td>\n",
       "      <td>1</td>\n",
       "      <td>3</td>\n",
       "      <td>4</td>\n",
       "      <td>3</td>\n",
       "      <td>7</td>\n",
       "      <td>1</td>\n",
       "      <td>2</td>\n",
       "      <td>ok</td>\n",
       "    </tr>\n",
       "    <tr>\n",
       "      <td>4</td>\n",
       "      <td>1017023</td>\n",
       "      <td>4</td>\n",
       "      <td>1</td>\n",
       "      <td>1</td>\n",
       "      <td>3</td>\n",
       "      <td>2</td>\n",
       "      <td>1</td>\n",
       "      <td>3</td>\n",
       "      <td>1</td>\n",
       "      <td>1</td>\n",
       "      <td>2</td>\n",
       "      <td>ok</td>\n",
       "    </tr>\n",
       "  </tbody>\n",
       "</table>\n",
       "</div>"
      ],
      "text/plain": [
       "   Sample code number  Clump Thickness  Uniformity of Cell Size  \\\n",
       "0             1000025                5                        1   \n",
       "1             1002945                5                        4   \n",
       "2             1015425                3                        1   \n",
       "3             1016277                6                        8   \n",
       "4             1017023                4                        1   \n",
       "\n",
       "   Uniformity of Cell Shape  Marginal Adhesion  Single Epithelial Cell Size  \\\n",
       "0                         1                  1                            2   \n",
       "1                         4                  5                            7   \n",
       "2                         1                  1                            2   \n",
       "3                         8                  1                            3   \n",
       "4                         1                  3                            2   \n",
       "\n",
       "   Bare Nuclei  Bland Chromatin  Normal Nucleoli  Mitoses  Class flag  \n",
       "0            1                3                1        1      2   ok  \n",
       "1           10                3                2        1      2   ok  \n",
       "2            2                3                1        1      2   ok  \n",
       "3            4                3                7        1      2   ok  \n",
       "4            1                3                1        1      2   ok  "
      ]
     },
     "execution_count": 90,
     "metadata": {},
     "output_type": "execute_result"
    }
   ],
   "source": [
    "raw_data = raw_data[raw_data['flag'] != 'not a float']\n",
    "\n",
    "for column in columns_to_clean:\n",
    "    raw_data[column] = pd.to_numeric(raw_data[column],errors='coerce')\n",
    "    \n",
    "raw_data.head()"
   ]
  },
  {
   "cell_type": "markdown",
   "metadata": {},
   "source": [
    "Making sure everything was converted without error"
   ]
  },
  {
   "cell_type": "code",
   "execution_count": 91,
   "metadata": {},
   "outputs": [
    {
     "data": {
      "text/plain": [
       "Sample code number             0\n",
       "Clump Thickness                0\n",
       "Uniformity of Cell Size        0\n",
       "Uniformity of Cell Shape       0\n",
       "Marginal Adhesion              0\n",
       "Single Epithelial Cell Size    0\n",
       "Bare Nuclei                    0\n",
       "Bland Chromatin                0\n",
       "Normal Nucleoli                0\n",
       "Mitoses                        0\n",
       "Class                          0\n",
       "flag                           0\n",
       "dtype: int64"
      ]
     },
     "execution_count": 91,
     "metadata": {},
     "output_type": "execute_result"
    }
   ],
   "source": [
    "raw_data.isnull().sum()"
   ]
  },
  {
   "cell_type": "markdown",
   "metadata": {},
   "source": [
    "### 3 - Checking for out of range data"
   ]
  },
  {
   "cell_type": "code",
   "execution_count": 92,
   "metadata": {},
   "outputs": [
    {
     "name": "stdout",
     "output_type": "stream",
     "text": [
      "There are 0 rows with out of range data\n"
     ]
    }
   ],
   "source": [
    "def flag_out_of_range(df):\n",
    "    \n",
    "    for col_name in columns_to_clean:\n",
    "        out_of_ranges = df[(df[col_name] < 0) | (df[col_name] > 10)] \n",
    "        for i in out_of_ranges.index:\n",
    "            df.at[i, 'flag'] = 'out of range'\n",
    "    return df\n",
    "    \n",
    "\n",
    "# For the 'out of range' check we have to delete the 'not a float' rows \n",
    "raw_data = flag_out_of_range(raw_data)\n",
    "print(\"There are %s rows with out of range data\" % len(raw_data[raw_data['flag'] == 'out of range'].index))"
   ]
  },
  {
   "cell_type": "markdown",
   "metadata": {},
   "source": [
    "### 3 - Identify potential duplicate rows"
   ]
  },
  {
   "cell_type": "code",
   "execution_count": 94,
   "metadata": {},
   "outputs": [
    {
     "name": "stdout",
     "output_type": "stream",
     "text": [
      "No duplicates found in dataframe\n"
     ]
    },
    {
     "data": {
      "text/html": [
       "<div>\n",
       "<style scoped>\n",
       "    .dataframe tbody tr th:only-of-type {\n",
       "        vertical-align: middle;\n",
       "    }\n",
       "\n",
       "    .dataframe tbody tr th {\n",
       "        vertical-align: top;\n",
       "    }\n",
       "\n",
       "    .dataframe thead th {\n",
       "        text-align: right;\n",
       "    }\n",
       "</style>\n",
       "<table border=\"1\" class=\"dataframe\">\n",
       "  <thead>\n",
       "    <tr style=\"text-align: right;\">\n",
       "      <th></th>\n",
       "      <th>Sample code number</th>\n",
       "      <th>Clump Thickness</th>\n",
       "      <th>Uniformity of Cell Size</th>\n",
       "      <th>Uniformity of Cell Shape</th>\n",
       "      <th>Marginal Adhesion</th>\n",
       "      <th>Single Epithelial Cell Size</th>\n",
       "      <th>Bare Nuclei</th>\n",
       "      <th>Bland Chromatin</th>\n",
       "      <th>Normal Nucleoli</th>\n",
       "      <th>Mitoses</th>\n",
       "      <th>Class</th>\n",
       "      <th>flag</th>\n",
       "    </tr>\n",
       "  </thead>\n",
       "  <tbody>\n",
       "    <tr>\n",
       "      <td>0</td>\n",
       "      <td>1000025</td>\n",
       "      <td>5</td>\n",
       "      <td>1</td>\n",
       "      <td>1</td>\n",
       "      <td>1</td>\n",
       "      <td>2</td>\n",
       "      <td>1</td>\n",
       "      <td>3</td>\n",
       "      <td>1</td>\n",
       "      <td>1</td>\n",
       "      <td>2</td>\n",
       "      <td>ok</td>\n",
       "    </tr>\n",
       "    <tr>\n",
       "      <td>1</td>\n",
       "      <td>1002945</td>\n",
       "      <td>5</td>\n",
       "      <td>4</td>\n",
       "      <td>4</td>\n",
       "      <td>5</td>\n",
       "      <td>7</td>\n",
       "      <td>10</td>\n",
       "      <td>3</td>\n",
       "      <td>2</td>\n",
       "      <td>1</td>\n",
       "      <td>2</td>\n",
       "      <td>ok</td>\n",
       "    </tr>\n",
       "    <tr>\n",
       "      <td>2</td>\n",
       "      <td>1015425</td>\n",
       "      <td>3</td>\n",
       "      <td>1</td>\n",
       "      <td>1</td>\n",
       "      <td>1</td>\n",
       "      <td>2</td>\n",
       "      <td>2</td>\n",
       "      <td>3</td>\n",
       "      <td>1</td>\n",
       "      <td>1</td>\n",
       "      <td>2</td>\n",
       "      <td>ok</td>\n",
       "    </tr>\n",
       "    <tr>\n",
       "      <td>3</td>\n",
       "      <td>1016277</td>\n",
       "      <td>6</td>\n",
       "      <td>8</td>\n",
       "      <td>8</td>\n",
       "      <td>1</td>\n",
       "      <td>3</td>\n",
       "      <td>4</td>\n",
       "      <td>3</td>\n",
       "      <td>7</td>\n",
       "      <td>1</td>\n",
       "      <td>2</td>\n",
       "      <td>ok</td>\n",
       "    </tr>\n",
       "    <tr>\n",
       "      <td>4</td>\n",
       "      <td>1017023</td>\n",
       "      <td>4</td>\n",
       "      <td>1</td>\n",
       "      <td>1</td>\n",
       "      <td>3</td>\n",
       "      <td>2</td>\n",
       "      <td>1</td>\n",
       "      <td>3</td>\n",
       "      <td>1</td>\n",
       "      <td>1</td>\n",
       "      <td>2</td>\n",
       "      <td>ok</td>\n",
       "    </tr>\n",
       "  </tbody>\n",
       "</table>\n",
       "</div>"
      ],
      "text/plain": [
       "   Sample code number  Clump Thickness  Uniformity of Cell Size  \\\n",
       "0             1000025                5                        1   \n",
       "1             1002945                5                        4   \n",
       "2             1015425                3                        1   \n",
       "3             1016277                6                        8   \n",
       "4             1017023                4                        1   \n",
       "\n",
       "   Uniformity of Cell Shape  Marginal Adhesion  Single Epithelial Cell Size  \\\n",
       "0                         1                  1                            2   \n",
       "1                         4                  5                            7   \n",
       "2                         1                  1                            2   \n",
       "3                         8                  1                            3   \n",
       "4                         1                  3                            2   \n",
       "\n",
       "   Bare Nuclei  Bland Chromatin  Normal Nucleoli  Mitoses  Class flag  \n",
       "0            1                3                1        1      2   ok  \n",
       "1           10                3                2        1      2   ok  \n",
       "2            2                3                1        1      2   ok  \n",
       "3            4                3                7        1      2   ok  \n",
       "4            1                3                1        1      2   ok  "
      ]
     },
     "execution_count": 94,
     "metadata": {},
     "output_type": "execute_result"
    }
   ],
   "source": [
    "def flag_duplicates(df):\n",
    "    \n",
    "    duplicate_rows_df = df[df.duplicated()]\n",
    "    if duplicate_rows_df.shape[0] == 0:\n",
    "        print(\"No duplicates found in dataframe\")\n",
    "        return raw_data\n",
    "    \n",
    "    # If we reach this part of the function then we do have duplicates in the data\n",
    "    print(\"Number of duplicate rows = %s\" % duplicate_rows_df.shape[0])\n",
    "    for i in duplicate_rows_df.index:\n",
    "        raw_data.at[i, 'flag'] = 'duplicate'\n",
    "    return raw_data\n",
    "    \n",
    "\n",
    "raw_data = flag_duplicates(raw_data)\n",
    "raw_data.head()"
   ]
  },
  {
   "cell_type": "markdown",
   "metadata": {},
   "source": [
    "### 4 - Flag outlier data"
   ]
  },
  {
   "cell_type": "markdown",
   "metadata": {},
   "source": [
    "First we can plot the boxplots to see how each variable is represented in the dataset. Then, assuming the distributions are Gaussian, one could flag as an outlier any value that falls outside of 3 standard deviations from the mean. Since we don't know if the Gaussian assumption holds, we will run the models with different versions of the dataset to determine whether outlier flagging helped improve the predictions.\n",
    "\n",
    "1. after deleting the duplicate rows only, and \n",
    "2. after deleting the duplicate rows *as well as* what we have considered to be outlier values\n",
    "\n",
    "To evaluate which version performs best."
   ]
  },
  {
   "cell_type": "markdown",
   "metadata": {},
   "source": [
    "**Boxplots**"
   ]
  },
  {
   "cell_type": "code",
   "execution_count": 95,
   "metadata": {},
   "outputs": [
    {
     "data": {
      "image/png": "[encoded data removed]",
      "text/plain": [
       "<Figure size 1152x288 with 1 Axes>"
      ]
     },
     "metadata": {},
     "output_type": "display_data"
    }
   ],
   "source": [
    "def draw_boxplots(raw_data, columns_to_clean):\n",
    "    plt.figure(figsize=(16, 4))\n",
    "    raw_data[columns_to_clean].boxplot()\n",
    "    plt.show()\n",
    "\n",
    "# Sulfur variables have much higher values than the rest, so we seperated them\n",
    "list1 = ['Clump Thickness', 'Uniformity of Cell Size', 'Uniformity of Cell Shape', 'Marginal Adhesion']\n",
    "other_vars  = [v for v in columns_to_clean if not v in list1]\n",
    "\n",
    "draw_boxplots(raw_data, list1)"
   ]
  },
  {
   "cell_type": "code",
   "execution_count": 96,
   "metadata": {},
   "outputs": [
    {
     "data": {
      "image/png": "[encoded data removed]",
      "text/plain": [
       "<Figure size 1152x288 with 1 Axes>"
      ]
     },
     "metadata": {},
     "output_type": "display_data"
    }
   ],
   "source": [
    "draw_boxplots(raw_data, other_vars)"
   ]
  },
  {
   "cell_type": "markdown",
   "metadata": {},
   "source": [
    "As we see above, the 'Mitoses' class has significant outliers."
   ]
  },
  {
   "cell_type": "markdown",
   "metadata": {},
   "source": [
    "**Flag potential outliers**"
   ]
  },
  {
   "cell_type": "code",
   "execution_count": 98,
   "metadata": {},
   "outputs": [],
   "source": [
    "def flag_outliers(df, columns_to_clean, n_std=3):\n",
    "    \"\"\"\n",
    "    n_std: number of standard deviations above which a value is considered to be an outlier\n",
    "    If a given row will be flagged if it contains at least one outlier\n",
    "    \"\"\"\n",
    "    \n",
    "    for col in columns_to_clean:\n",
    "        # sumamry statistics\n",
    "        col_mean, col_std = np.mean(df[col]), np.std(df[col])\n",
    "        # identify outliers\n",
    "        cut_off = col_std * n_std\n",
    "        # this is the range of acceptable data\n",
    "        lower, upper = col_mean - cut_off, col_mean + cut_off\n",
    "        \n",
    "        # outliers\n",
    "        outliers = df[(df[col]<lower) | (df[col]>upper)]\n",
    "        for i in outliers.index:\n",
    "            df.at[i, 'flag'] = 'potential outlier'    \n",
    "    return df\n",
    "    \n",
    "raw_data = flag_outliers(raw_data, columns_to_clean)"
   ]
  },
  {
   "cell_type": "markdown",
   "metadata": {},
   "source": [
    "### 5 - Delete flagged data"
   ]
  },
  {
   "cell_type": "markdown",
   "metadata": {},
   "source": [
    "Summary of the flagging : we have 223 duplicates and 148 rows containing at least one outlier value."
   ]
  },
  {
   "cell_type": "code",
   "execution_count": 103,
   "metadata": {},
   "outputs": [
    {
     "data": {
      "text/plain": [
       "flag\n",
       "duplicate              7\n",
       "ok                   625\n",
       "potential outlier     51\n",
       "Name: Class, dtype: int64"
      ]
     },
     "execution_count": 103,
     "metadata": {},
     "output_type": "execute_result"
    }
   ],
   "source": [
    "summary = raw_data.groupby('flag').count()['Class']\n",
    "summary"
   ]
  },
  {
   "cell_type": "markdown",
   "metadata": {},
   "source": [
    "Cleanup"
   ]
  },
  {
   "cell_type": "code",
   "execution_count": 104,
   "metadata": {},
   "outputs": [
    {
     "data": {
      "text/html": [
       "<div>\n",
       "<style scoped>\n",
       "    .dataframe tbody tr th:only-of-type {\n",
       "        vertical-align: middle;\n",
       "    }\n",
       "\n",
       "    .dataframe tbody tr th {\n",
       "        vertical-align: top;\n",
       "    }\n",
       "\n",
       "    .dataframe thead th {\n",
       "        text-align: right;\n",
       "    }\n",
       "</style>\n",
       "<table border=\"1\" class=\"dataframe\">\n",
       "  <thead>\n",
       "    <tr style=\"text-align: right;\">\n",
       "      <th></th>\n",
       "      <th>Sample code number</th>\n",
       "      <th>Clump Thickness</th>\n",
       "      <th>Uniformity of Cell Size</th>\n",
       "      <th>Uniformity of Cell Shape</th>\n",
       "      <th>Marginal Adhesion</th>\n",
       "      <th>Single Epithelial Cell Size</th>\n",
       "      <th>Bare Nuclei</th>\n",
       "      <th>Bland Chromatin</th>\n",
       "      <th>Normal Nucleoli</th>\n",
       "      <th>Mitoses</th>\n",
       "      <th>Class</th>\n",
       "      <th>flag</th>\n",
       "    </tr>\n",
       "  </thead>\n",
       "  <tbody>\n",
       "    <tr>\n",
       "      <td>0</td>\n",
       "      <td>1000025</td>\n",
       "      <td>5</td>\n",
       "      <td>1</td>\n",
       "      <td>1</td>\n",
       "      <td>1</td>\n",
       "      <td>2</td>\n",
       "      <td>1</td>\n",
       "      <td>3</td>\n",
       "      <td>1</td>\n",
       "      <td>1</td>\n",
       "      <td>2</td>\n",
       "      <td>ok</td>\n",
       "    </tr>\n",
       "    <tr>\n",
       "      <td>1</td>\n",
       "      <td>1002945</td>\n",
       "      <td>5</td>\n",
       "      <td>4</td>\n",
       "      <td>4</td>\n",
       "      <td>5</td>\n",
       "      <td>7</td>\n",
       "      <td>10</td>\n",
       "      <td>3</td>\n",
       "      <td>2</td>\n",
       "      <td>1</td>\n",
       "      <td>2</td>\n",
       "      <td>ok</td>\n",
       "    </tr>\n",
       "    <tr>\n",
       "      <td>2</td>\n",
       "      <td>1015425</td>\n",
       "      <td>3</td>\n",
       "      <td>1</td>\n",
       "      <td>1</td>\n",
       "      <td>1</td>\n",
       "      <td>2</td>\n",
       "      <td>2</td>\n",
       "      <td>3</td>\n",
       "      <td>1</td>\n",
       "      <td>1</td>\n",
       "      <td>2</td>\n",
       "      <td>ok</td>\n",
       "    </tr>\n",
       "    <tr>\n",
       "      <td>3</td>\n",
       "      <td>1016277</td>\n",
       "      <td>6</td>\n",
       "      <td>8</td>\n",
       "      <td>8</td>\n",
       "      <td>1</td>\n",
       "      <td>3</td>\n",
       "      <td>4</td>\n",
       "      <td>3</td>\n",
       "      <td>7</td>\n",
       "      <td>1</td>\n",
       "      <td>2</td>\n",
       "      <td>ok</td>\n",
       "    </tr>\n",
       "    <tr>\n",
       "      <td>4</td>\n",
       "      <td>1017023</td>\n",
       "      <td>4</td>\n",
       "      <td>1</td>\n",
       "      <td>1</td>\n",
       "      <td>3</td>\n",
       "      <td>2</td>\n",
       "      <td>1</td>\n",
       "      <td>3</td>\n",
       "      <td>1</td>\n",
       "      <td>1</td>\n",
       "      <td>2</td>\n",
       "      <td>ok</td>\n",
       "    </tr>\n",
       "  </tbody>\n",
       "</table>\n",
       "</div>"
      ],
      "text/plain": [
       "   Sample code number  Clump Thickness  Uniformity of Cell Size  \\\n",
       "0             1000025                5                        1   \n",
       "1             1002945                5                        4   \n",
       "2             1015425                3                        1   \n",
       "3             1016277                6                        8   \n",
       "4             1017023                4                        1   \n",
       "\n",
       "   Uniformity of Cell Shape  Marginal Adhesion  Single Epithelial Cell Size  \\\n",
       "0                         1                  1                            2   \n",
       "1                         4                  5                            7   \n",
       "2                         1                  1                            2   \n",
       "3                         8                  1                            3   \n",
       "4                         1                  3                            2   \n",
       "\n",
       "   Bare Nuclei  Bland Chromatin  Normal Nucleoli  Mitoses  Class flag  \n",
       "0            1                3                1        1      2   ok  \n",
       "1           10                3                2        1      2   ok  \n",
       "2            2                3                1        1      2   ok  \n",
       "3            4                3                7        1      2   ok  \n",
       "4            1                3                1        1      2   ok  "
      ]
     },
     "execution_count": 104,
     "metadata": {},
     "output_type": "execute_result"
    }
   ],
   "source": [
    "raw_data.head(5)"
   ]
  },
  {
   "cell_type": "code",
   "execution_count": 106,
   "metadata": {},
   "outputs": [
    {
     "data": {
      "text/html": [
       "<div>\n",
       "<style scoped>\n",
       "    .dataframe tbody tr th:only-of-type {\n",
       "        vertical-align: middle;\n",
       "    }\n",
       "\n",
       "    .dataframe tbody tr th {\n",
       "        vertical-align: top;\n",
       "    }\n",
       "\n",
       "    .dataframe thead th {\n",
       "        text-align: right;\n",
       "    }\n",
       "</style>\n",
       "<table border=\"1\" class=\"dataframe\">\n",
       "  <thead>\n",
       "    <tr style=\"text-align: right;\">\n",
       "      <th></th>\n",
       "      <th>Sample code number</th>\n",
       "      <th>Clump Thickness</th>\n",
       "      <th>Uniformity of Cell Size</th>\n",
       "      <th>Uniformity of Cell Shape</th>\n",
       "      <th>Marginal Adhesion</th>\n",
       "      <th>Single Epithelial Cell Size</th>\n",
       "      <th>Bare Nuclei</th>\n",
       "      <th>Bland Chromatin</th>\n",
       "      <th>Normal Nucleoli</th>\n",
       "      <th>Mitoses</th>\n",
       "      <th>Class</th>\n",
       "      <th>y</th>\n",
       "    </tr>\n",
       "  </thead>\n",
       "  <tbody>\n",
       "    <tr>\n",
       "      <td>0</td>\n",
       "      <td>1000025</td>\n",
       "      <td>5</td>\n",
       "      <td>1</td>\n",
       "      <td>1</td>\n",
       "      <td>1</td>\n",
       "      <td>2</td>\n",
       "      <td>1</td>\n",
       "      <td>3</td>\n",
       "      <td>1</td>\n",
       "      <td>1</td>\n",
       "      <td>2</td>\n",
       "      <td>0.0</td>\n",
       "    </tr>\n",
       "    <tr>\n",
       "      <td>1</td>\n",
       "      <td>1002945</td>\n",
       "      <td>5</td>\n",
       "      <td>4</td>\n",
       "      <td>4</td>\n",
       "      <td>5</td>\n",
       "      <td>7</td>\n",
       "      <td>10</td>\n",
       "      <td>3</td>\n",
       "      <td>2</td>\n",
       "      <td>1</td>\n",
       "      <td>2</td>\n",
       "      <td>0.0</td>\n",
       "    </tr>\n",
       "    <tr>\n",
       "      <td>2</td>\n",
       "      <td>1015425</td>\n",
       "      <td>3</td>\n",
       "      <td>1</td>\n",
       "      <td>1</td>\n",
       "      <td>1</td>\n",
       "      <td>2</td>\n",
       "      <td>2</td>\n",
       "      <td>3</td>\n",
       "      <td>1</td>\n",
       "      <td>1</td>\n",
       "      <td>2</td>\n",
       "      <td>0.0</td>\n",
       "    </tr>\n",
       "    <tr>\n",
       "      <td>3</td>\n",
       "      <td>1016277</td>\n",
       "      <td>6</td>\n",
       "      <td>8</td>\n",
       "      <td>8</td>\n",
       "      <td>1</td>\n",
       "      <td>3</td>\n",
       "      <td>4</td>\n",
       "      <td>3</td>\n",
       "      <td>7</td>\n",
       "      <td>1</td>\n",
       "      <td>2</td>\n",
       "      <td>0.0</td>\n",
       "    </tr>\n",
       "    <tr>\n",
       "      <td>4</td>\n",
       "      <td>1017023</td>\n",
       "      <td>4</td>\n",
       "      <td>1</td>\n",
       "      <td>1</td>\n",
       "      <td>3</td>\n",
       "      <td>2</td>\n",
       "      <td>1</td>\n",
       "      <td>3</td>\n",
       "      <td>1</td>\n",
       "      <td>1</td>\n",
       "      <td>2</td>\n",
       "      <td>0.0</td>\n",
       "    </tr>\n",
       "  </tbody>\n",
       "</table>\n",
       "</div>"
      ],
      "text/plain": [
       "   Sample code number  Clump Thickness  Uniformity of Cell Size  \\\n",
       "0             1000025                5                        1   \n",
       "1             1002945                5                        4   \n",
       "2             1015425                3                        1   \n",
       "3             1016277                6                        8   \n",
       "4             1017023                4                        1   \n",
       "\n",
       "   Uniformity of Cell Shape  Marginal Adhesion  Single Epithelial Cell Size  \\\n",
       "0                         1                  1                            2   \n",
       "1                         4                  5                            7   \n",
       "2                         1                  1                            2   \n",
       "3                         8                  1                            3   \n",
       "4                         1                  3                            2   \n",
       "\n",
       "   Bare Nuclei  Bland Chromatin  Normal Nucleoli  Mitoses  Class    y  \n",
       "0            1                3                1        1      2  0.0  \n",
       "1           10                3                2        1      2  0.0  \n",
       "2            2                3                1        1      2  0.0  \n",
       "3            4                3                7        1      2  0.0  \n",
       "4            1                3                1        1      2  0.0  "
      ]
     },
     "execution_count": 106,
     "metadata": {},
     "output_type": "execute_result"
    }
   ],
   "source": [
    "def get_clean_dataframe(df, delete_outliers=False):\n",
    "    \"\"\"\n",
    "    The 'delete_outliers' attribute can be set to True to also remove rows flagged as outliers\n",
    "    \"\"\"\n",
    "    if delete_outliers is True:\n",
    "        clean_data = df[df['flag']=='ok']\n",
    "    else:\n",
    "        clean_data = df[(df['flag']=='ok') | (df['flag']=='potential outlier')]\n",
    "    # Drop the flag column before returning the clean data\n",
    "    return clean_data.drop('flag', axis=1)\n",
    "    \n",
    "\n",
    "# Get the clean data\n",
    "clean_df   = get_clean_dataframe(raw_data) # this is to skip SettingWithCopyWarning from Pandas\n",
    "clean_data = clean_df.copy()\n",
    "# Create the binary y column\n",
    "clean_data['y'] = np.where(clean_df['Class'] == 4.0, 1.0, 0.0)\n",
    "clean_data.head()"
   ]
  },
  {
   "cell_type": "markdown",
   "metadata": {},
   "source": [
    "# 3 - Exploratory data analysis"
   ]
  },
  {
   "cell_type": "markdown",
   "metadata": {},
   "source": [
    "This section includes:\n",
    "\n",
    "1. Histograms of each variable\n",
    "2. Scatterplots (xi,y) \n",
    "3. The new boxplots "
   ]
  },
  {
   "cell_type": "code",
   "execution_count": 107,
   "metadata": {},
   "outputs": [
    {
     "name": "stdout",
     "output_type": "stream",
     "text": [
      "['Sample code number', 'Clump Thickness', 'Uniformity of Cell Size', 'Uniformity of Cell Shape', 'Marginal Adhesion', 'Single Epithelial Cell Size', 'Bare Nuclei', 'Bland Chromatin', 'Normal Nucleoli', 'Mitoses']\n",
      "['Class', 'y']\n"
     ]
    }
   ],
   "source": [
    "y_vars = ['Class', 'y']\n",
    "x_vars = [var for var in clean_data.columns.tolist() if not var in y_vars]\n",
    "\n",
    "print(x_vars)\n",
    "print(y_vars)"
   ]
  },
  {
   "cell_type": "markdown",
   "metadata": {},
   "source": [
    "## 1 - Histograms"
   ]
  },
  {
   "cell_type": "markdown",
   "metadata": {},
   "source": [
    "### Input variables"
   ]
  },
  {
   "cell_type": "code",
   "execution_count": 109,
   "metadata": {
    "scrolled": true
   },
   "outputs": [
    {
     "data": {
      "image/png": "[encoded data removed]",
      "text/plain": [
       "<Figure size 1152x720 with 12 Axes>"
      ]
     },
     "metadata": {},
     "output_type": "display_data"
    }
   ],
   "source": [
    "def draw_histogram(df, bins=50, width=12, height=5):\n",
    "    df.hist(bins=bins, figsize=(width,height))\n",
    "    \n",
    "draw_histogram(clean_data[x_vars], bins=10, width=16, height=10)"
   ]
  },
  {
   "cell_type": "markdown",
   "metadata": {},
   "source": [
    "### Outputs variables"
   ]
  },
  {
   "cell_type": "code",
   "execution_count": 110,
   "metadata": {},
   "outputs": [
    {
     "data": {
      "image/png": "[encoded data removed]",
      "text/plain": [
       "<Figure size 864x216 with 2 Axes>"
      ]
     },
     "metadata": {},
     "output_type": "display_data"
    }
   ],
   "source": [
    "draw_histogram(clean_data[y_vars], bins=10, width=12, height=3)"
   ]
  },
  {
   "cell_type": "markdown",
   "metadata": {},
   "source": [
    "## 2 - Distribution of the input variables, by quality category"
   ]
  },
  {
   "cell_type": "code",
   "execution_count": 130,
   "metadata": {},
   "outputs": [
    {
     "name": "stdout",
     "output_type": "stream",
     "text": [
      "['Sample code number', 'Clump Thickness', 'Uniformity of Cell Size', 'Uniformity of Cell Shape', 'Marginal Adhesion', 'Single Epithelial Cell Size', 'Bare Nuclei', 'Bland Chromatin', 'Normal Nucleoli', 'Mitoses', 'Class', 'y']\n"
     ]
    }
   ],
   "source": [
    "def plot_dist_by_category(df, x, y_cat):\n",
    "    \n",
    "    fig = plt.figure(figsize=(16,4))\n",
    "    \n",
    "    #------------------------------------------------------------\n",
    "    # P(Xi|Y=0) versus P(Xi|Y=1)\n",
    "    #------------------------------------------------------------\n",
    "    pos_class = df[df[y_cat] == 1.0] # positive class \n",
    "    neg_class = df[df[y_cat] == 0.0] # negative class\n",
    "    \n",
    "    pos_mean = float(np.mean(pos_class[[x]])) # mean, positive class\n",
    "    neg_mean = float(np.mean(neg_class[[x]])) # mean, negative class\n",
    "    \n",
    "    sns.distplot(pos_class[[x]], norm_hist=True, color='#7282ff')\n",
    "    sns.distplot(neg_class[[x]], norm_hist=True, color='#e56666')\n",
    "    \n",
    "    plt.axvline(pos_mean, color='#7282ff')\n",
    "    plt.axvline(neg_mean, color='#e56666')\n",
    "    \n",
    "    fig.legend(labels=['%s for y=1' % x,'%s for y=0' % x], loc='upper center')\n",
    "    \n",
    "    \n",
    "var_list = clean_data.columns.tolist()\n",
    "print(var_list)"
   ]
  },
  {
   "cell_type": "markdown",
   "metadata": {},
   "source": [
    "### Clump Thickness\n"
   ]
  },
  {
   "cell_type": "code",
   "execution_count": 131,
   "metadata": {},
   "outputs": [
    {
     "data": {
      "image/png": "[encoded data removed]",
      "text/plain": [
       "<Figure size 1152x288 with 1 Axes>"
      ]
     },
     "metadata": {},
     "output_type": "display_data"
    }
   ],
   "source": [
    "plot_dist_by_category(clean_data, 'Clump Thickness', 'y')    "
   ]
  },
  {
   "cell_type": "markdown",
   "metadata": {},
   "source": [
    "### Uniformity of Cell Size"
   ]
  },
  {
   "cell_type": "code",
   "execution_count": 132,
   "metadata": {},
   "outputs": [
    {
     "data": {
      "image/png": "[encoded data removed]",
      "text/plain": [
       "<Figure size 1152x288 with 1 Axes>"
      ]
     },
     "metadata": {},
     "output_type": "display_data"
    }
   ],
   "source": [
    "plot_dist_by_category(clean_data, 'Uniformity of Cell Size', 'y')"
   ]
  },
  {
   "cell_type": "markdown",
   "metadata": {},
   "source": [
    "### Uniformity of Cell Shape"
   ]
  },
  {
   "cell_type": "code",
   "execution_count": 133,
   "metadata": {},
   "outputs": [
    {
     "data": {
      "image/png": "[encoded data removed]",
      "text/plain": [
       "<Figure size 1152x288 with 1 Axes>"
      ]
     },
     "metadata": {},
     "output_type": "display_data"
    }
   ],
   "source": [
    "plot_dist_by_category(clean_data, 'Uniformity of Cell Shape', 'y')"
   ]
  },
  {
   "cell_type": "markdown",
   "metadata": {},
   "source": [
    "### Marginal Adhesion"
   ]
  },
  {
   "cell_type": "code",
   "execution_count": 134,
   "metadata": {},
   "outputs": [
    {
     "data": {
      "image/png": "[encoded data removed]",
      "text/plain": [
       "<Figure size 1152x288 with 1 Axes>"
      ]
     },
     "metadata": {},
     "output_type": "display_data"
    }
   ],
   "source": [
    "plot_dist_by_category(clean_data, 'Marginal Adhesion', 'y')"
   ]
  },
  {
   "cell_type": "markdown",
   "metadata": {},
   "source": [
    "### Single Epithelial Cell Size"
   ]
  },
  {
   "cell_type": "code",
   "execution_count": 135,
   "metadata": {},
   "outputs": [
    {
     "data": {
      "image/png": "[encoded data removed]",
      "text/plain": [
       "<Figure size 1152x288 with 1 Axes>"
      ]
     },
     "metadata": {},
     "output_type": "display_data"
    }
   ],
   "source": [
    "plot_dist_by_category(clean_data, 'Single Epithelial Cell Size', 'y')"
   ]
  },
  {
   "cell_type": "markdown",
   "metadata": {},
   "source": [
    "### Bare Nuclei"
   ]
  },
  {
   "cell_type": "code",
   "execution_count": 136,
   "metadata": {},
   "outputs": [
    {
     "data": {
      "image/png": "[encoded data removed]",
      "text/plain": [
       "<Figure size 1152x288 with 1 Axes>"
      ]
     },
     "metadata": {},
     "output_type": "display_data"
    }
   ],
   "source": [
    "plot_dist_by_category(clean_data, 'Bare Nuclei', 'y')"
   ]
  },
  {
   "cell_type": "markdown",
   "metadata": {},
   "source": [
    "### Bland Chromatin"
   ]
  },
  {
   "cell_type": "code",
   "execution_count": 137,
   "metadata": {},
   "outputs": [
    {
     "data": {
      "image/png": "[encoded data removed]",
      "text/plain": [
       "<Figure size 1152x288 with 1 Axes>"
      ]
     },
     "metadata": {},
     "output_type": "display_data"
    }
   ],
   "source": [
    "plot_dist_by_category(clean_data, 'Bland Chromatin', 'y')"
   ]
  },
  {
   "cell_type": "markdown",
   "metadata": {},
   "source": [
    "### Normal Nucleoli"
   ]
  },
  {
   "cell_type": "code",
   "execution_count": 138,
   "metadata": {},
   "outputs": [
    {
     "data": {
      "image/png": "[encoded data removed]",
      "text/plain": [
       "<Figure size 1152x288 with 1 Axes>"
      ]
     },
     "metadata": {},
     "output_type": "display_data"
    }
   ],
   "source": [
    "plot_dist_by_category(clean_data, 'Normal Nucleoli', 'y')"
   ]
  },
  {
   "cell_type": "markdown",
   "metadata": {},
   "source": [
    "### Mitoses"
   ]
  },
  {
   "cell_type": "code",
   "execution_count": 139,
   "metadata": {},
   "outputs": [
    {
     "data": {
      "image/png": "[encoded data removed]",
      "text/plain": [
       "<Figure size 1152x288 with 1 Axes>"
      ]
     },
     "metadata": {},
     "output_type": "display_data"
    }
   ],
   "source": [
    "plot_dist_by_category(clean_data, 'Mitoses', 'y')"
   ]
  },
  {
   "cell_type": "markdown",
   "metadata": {},
   "source": [
    "## 3 - Correlation analysis"
   ]
  },
  {
   "cell_type": "code",
   "execution_count": 140,
   "metadata": {},
   "outputs": [
    {
     "data": {
      "text/html": [
       "<style  type=\"text/css\" >\n",
       "    #T_3d148fc0_de67_11e9_be16_802bf95f2e51row0_col0 {\n",
       "            background-color:  #b40426;\n",
       "            color:  #f1f1f1;\n",
       "        }    #T_3d148fc0_de67_11e9_be16_802bf95f2e51row0_col1 {\n",
       "            background-color:  #3b4cc0;\n",
       "            color:  #f1f1f1;\n",
       "        }    #T_3d148fc0_de67_11e9_be16_802bf95f2e51row0_col2 {\n",
       "            background-color:  #3b4cc0;\n",
       "            color:  #f1f1f1;\n",
       "        }    #T_3d148fc0_de67_11e9_be16_802bf95f2e51row0_col3 {\n",
       "            background-color:  #3b4cc0;\n",
       "            color:  #f1f1f1;\n",
       "        }    #T_3d148fc0_de67_11e9_be16_802bf95f2e51row0_col4 {\n",
       "            background-color:  #3b4cc0;\n",
       "            color:  #f1f1f1;\n",
       "        }    #T_3d148fc0_de67_11e9_be16_802bf95f2e51row0_col5 {\n",
       "            background-color:  #3b4cc0;\n",
       "            color:  #f1f1f1;\n",
       "        }    #T_3d148fc0_de67_11e9_be16_802bf95f2e51row0_col6 {\n",
       "            background-color:  #3b4cc0;\n",
       "            color:  #f1f1f1;\n",
       "        }    #T_3d148fc0_de67_11e9_be16_802bf95f2e51row0_col7 {\n",
       "            background-color:  #3b4cc0;\n",
       "            color:  #f1f1f1;\n",
       "        }    #T_3d148fc0_de67_11e9_be16_802bf95f2e51row0_col8 {\n",
       "            background-color:  #3b4cc0;\n",
       "            color:  #f1f1f1;\n",
       "        }    #T_3d148fc0_de67_11e9_be16_802bf95f2e51row0_col9 {\n",
       "            background-color:  #3b4cc0;\n",
       "            color:  #f1f1f1;\n",
       "        }    #T_3d148fc0_de67_11e9_be16_802bf95f2e51row0_col10 {\n",
       "            background-color:  #3b4cc0;\n",
       "            color:  #f1f1f1;\n",
       "        }    #T_3d148fc0_de67_11e9_be16_802bf95f2e51row1_col0 {\n",
       "            background-color:  #445acc;\n",
       "            color:  #f1f1f1;\n",
       "        }    #T_3d148fc0_de67_11e9_be16_802bf95f2e51row1_col1 {\n",
       "            background-color:  #b40426;\n",
       "            color:  #f1f1f1;\n",
       "        }    #T_3d148fc0_de67_11e9_be16_802bf95f2e51row1_col2 {\n",
       "            background-color:  #f7ba9f;\n",
       "            color:  #000000;\n",
       "        }    #T_3d148fc0_de67_11e9_be16_802bf95f2e51row1_col3 {\n",
       "            background-color:  #f7b79b;\n",
       "            color:  #000000;\n",
       "        }    #T_3d148fc0_de67_11e9_be16_802bf95f2e51row1_col4 {\n",
       "            background-color:  #e2dad5;\n",
       "            color:  #000000;\n",
       "        }    #T_3d148fc0_de67_11e9_be16_802bf95f2e51row1_col5 {\n",
       "            background-color:  #e8d6cc;\n",
       "            color:  #000000;\n",
       "        }    #T_3d148fc0_de67_11e9_be16_802bf95f2e51row1_col6 {\n",
       "            background-color:  #f5c2aa;\n",
       "            color:  #000000;\n",
       "        }    #T_3d148fc0_de67_11e9_be16_802bf95f2e51row1_col7 {\n",
       "            background-color:  #efcfbf;\n",
       "            color:  #000000;\n",
       "        }    #T_3d148fc0_de67_11e9_be16_802bf95f2e51row1_col8 {\n",
       "            background-color:  #ead4c8;\n",
       "            color:  #000000;\n",
       "        }    #T_3d148fc0_de67_11e9_be16_802bf95f2e51row1_col9 {\n",
       "            background-color:  #b7cff9;\n",
       "            color:  #000000;\n",
       "        }    #T_3d148fc0_de67_11e9_be16_802bf95f2e51row1_col10 {\n",
       "            background-color:  #f59d7e;\n",
       "            color:  #000000;\n",
       "        }    #T_3d148fc0_de67_11e9_be16_802bf95f2e51row2_col0 {\n",
       "            background-color:  #4961d2;\n",
       "            color:  #f1f1f1;\n",
       "        }    #T_3d148fc0_de67_11e9_be16_802bf95f2e51row2_col1 {\n",
       "            background-color:  #f7b99e;\n",
       "            color:  #000000;\n",
       "        }    #T_3d148fc0_de67_11e9_be16_802bf95f2e51row2_col2 {\n",
       "            background-color:  #b40426;\n",
       "            color:  #f1f1f1;\n",
       "        }    #T_3d148fc0_de67_11e9_be16_802bf95f2e51row2_col3 {\n",
       "            background-color:  #d24b40;\n",
       "            color:  #f1f1f1;\n",
       "        }    #T_3d148fc0_de67_11e9_be16_802bf95f2e51row2_col4 {\n",
       "            background-color:  #f6a283;\n",
       "            color:  #000000;\n",
       "        }    #T_3d148fc0_de67_11e9_be16_802bf95f2e51row2_col5 {\n",
       "            background-color:  #f39475;\n",
       "            color:  #000000;\n",
       "        }    #T_3d148fc0_de67_11e9_be16_802bf95f2e51row2_col6 {\n",
       "            background-color:  #f7a688;\n",
       "            color:  #000000;\n",
       "        }    #T_3d148fc0_de67_11e9_be16_802bf95f2e51row2_col7 {\n",
       "            background-color:  #f29072;\n",
       "            color:  #000000;\n",
       "        }    #T_3d148fc0_de67_11e9_be16_802bf95f2e51row2_col8 {\n",
       "            background-color:  #f59f80;\n",
       "            color:  #000000;\n",
       "        }    #T_3d148fc0_de67_11e9_be16_802bf95f2e51row2_col9 {\n",
       "            background-color:  #d7dce3;\n",
       "            color:  #000000;\n",
       "        }    #T_3d148fc0_de67_11e9_be16_802bf95f2e51row2_col10 {\n",
       "            background-color:  #e7745b;\n",
       "            color:  #000000;\n",
       "        }    #T_3d148fc0_de67_11e9_be16_802bf95f2e51row3_col0 {\n",
       "            background-color:  #4961d2;\n",
       "            color:  #f1f1f1;\n",
       "        }    #T_3d148fc0_de67_11e9_be16_802bf95f2e51row3_col1 {\n",
       "            background-color:  #f7b599;\n",
       "            color:  #000000;\n",
       "        }    #T_3d148fc0_de67_11e9_be16_802bf95f2e51row3_col2 {\n",
       "            background-color:  #d24b40;\n",
       "            color:  #f1f1f1;\n",
       "        }    #T_3d148fc0_de67_11e9_be16_802bf95f2e51row3_col3 {\n",
       "            background-color:  #b40426;\n",
       "            color:  #f1f1f1;\n",
       "        }    #T_3d148fc0_de67_11e9_be16_802bf95f2e51row3_col4 {\n",
       "            background-color:  #f7a98b;\n",
       "            color:  #000000;\n",
       "        }    #T_3d148fc0_de67_11e9_be16_802bf95f2e51row3_col5 {\n",
       "            background-color:  #f5a081;\n",
       "            color:  #000000;\n",
       "        }    #T_3d148fc0_de67_11e9_be16_802bf95f2e51row3_col6 {\n",
       "            background-color:  #f59f80;\n",
       "            color:  #000000;\n",
       "        }    #T_3d148fc0_de67_11e9_be16_802bf95f2e51row3_col7 {\n",
       "            background-color:  #f49a7b;\n",
       "            color:  #000000;\n",
       "        }    #T_3d148fc0_de67_11e9_be16_802bf95f2e51row3_col8 {\n",
       "            background-color:  #f59f80;\n",
       "            color:  #000000;\n",
       "        }    #T_3d148fc0_de67_11e9_be16_802bf95f2e51row3_col9 {\n",
       "            background-color:  #d3dbe7;\n",
       "            color:  #000000;\n",
       "        }    #T_3d148fc0_de67_11e9_be16_802bf95f2e51row3_col10 {\n",
       "            background-color:  #e7745b;\n",
       "            color:  #000000;\n",
       "        }    #T_3d148fc0_de67_11e9_be16_802bf95f2e51row4_col0 {\n",
       "            background-color:  #4257c9;\n",
       "            color:  #f1f1f1;\n",
       "        }    #T_3d148fc0_de67_11e9_be16_802bf95f2e51row4_col1 {\n",
       "            background-color:  #e1dad6;\n",
       "            color:  #000000;\n",
       "        }    #T_3d148fc0_de67_11e9_be16_802bf95f2e51row4_col2 {\n",
       "            background-color:  #f6a586;\n",
       "            color:  #000000;\n",
       "        }    #T_3d148fc0_de67_11e9_be16_802bf95f2e51row4_col3 {\n",
       "            background-color:  #f7ac8e;\n",
       "            color:  #000000;\n",
       "        }    #T_3d148fc0_de67_11e9_be16_802bf95f2e51row4_col4 {\n",
       "            background-color:  #b40426;\n",
       "            color:  #f1f1f1;\n",
       "        }    #T_3d148fc0_de67_11e9_be16_802bf95f2e51row4_col5 {\n",
       "            background-color:  #f3c7b1;\n",
       "            color:  #000000;\n",
       "        }    #T_3d148fc0_de67_11e9_be16_802bf95f2e51row4_col6 {\n",
       "            background-color:  #f7aa8c;\n",
       "            color:  #000000;\n",
       "        }    #T_3d148fc0_de67_11e9_be16_802bf95f2e51row4_col7 {\n",
       "            background-color:  #f7b093;\n",
       "            color:  #000000;\n",
       "        }    #T_3d148fc0_de67_11e9_be16_802bf95f2e51row4_col8 {\n",
       "            background-color:  #f4c5ad;\n",
       "            color:  #000000;\n",
       "        }    #T_3d148fc0_de67_11e9_be16_802bf95f2e51row4_col9 {\n",
       "            background-color:  #ccd9ed;\n",
       "            color:  #000000;\n",
       "        }    #T_3d148fc0_de67_11e9_be16_802bf95f2e51row4_col10 {\n",
       "            background-color:  #f5a081;\n",
       "            color:  #000000;\n",
       "        }    #T_3d148fc0_de67_11e9_be16_802bf95f2e51row5_col0 {\n",
       "            background-color:  #485fd1;\n",
       "            color:  #f1f1f1;\n",
       "        }    #T_3d148fc0_de67_11e9_be16_802bf95f2e51row5_col1 {\n",
       "            background-color:  #e9d5cb;\n",
       "            color:  #000000;\n",
       "        }    #T_3d148fc0_de67_11e9_be16_802bf95f2e51row5_col2 {\n",
       "            background-color:  #f39577;\n",
       "            color:  #000000;\n",
       "        }    #T_3d148fc0_de67_11e9_be16_802bf95f2e51row5_col3 {\n",
       "            background-color:  #f5a081;\n",
       "            color:  #000000;\n",
       "        }    #T_3d148fc0_de67_11e9_be16_802bf95f2e51row5_col4 {\n",
       "            background-color:  #f4c5ad;\n",
       "            color:  #000000;\n",
       "        }    #T_3d148fc0_de67_11e9_be16_802bf95f2e51row5_col5 {\n",
       "            background-color:  #b40426;\n",
       "            color:  #f1f1f1;\n",
       "        }    #T_3d148fc0_de67_11e9_be16_802bf95f2e51row5_col6 {\n",
       "            background-color:  #f4c6af;\n",
       "            color:  #000000;\n",
       "        }    #T_3d148fc0_de67_11e9_be16_802bf95f2e51row5_col7 {\n",
       "            background-color:  #f5c0a7;\n",
       "            color:  #000000;\n",
       "        }    #T_3d148fc0_de67_11e9_be16_802bf95f2e51row5_col8 {\n",
       "            background-color:  #f6bda2;\n",
       "            color:  #000000;\n",
       "        }    #T_3d148fc0_de67_11e9_be16_802bf95f2e51row5_col9 {\n",
       "            background-color:  #dcdddd;\n",
       "            color:  #000000;\n",
       "        }    #T_3d148fc0_de67_11e9_be16_802bf95f2e51row5_col10 {\n",
       "            background-color:  #f7a889;\n",
       "            color:  #000000;\n",
       "        }    #T_3d148fc0_de67_11e9_be16_802bf95f2e51row6_col0 {\n",
       "            background-color:  #3b4cc0;\n",
       "            color:  #f1f1f1;\n",
       "        }    #T_3d148fc0_de67_11e9_be16_802bf95f2e51row6_col1 {\n",
       "            background-color:  #f4c6af;\n",
       "            color:  #000000;\n",
       "        }    #T_3d148fc0_de67_11e9_be16_802bf95f2e51row6_col2 {\n",
       "            background-color:  #f7aa8c;\n",
       "            color:  #000000;\n",
       "        }    #T_3d148fc0_de67_11e9_be16_802bf95f2e51row6_col3 {\n",
       "            background-color:  #f6a385;\n",
       "            color:  #000000;\n",
       "        }    #T_3d148fc0_de67_11e9_be16_802bf95f2e51row6_col4 {\n",
       "            background-color:  #f7ad90;\n",
       "            color:  #000000;\n",
       "        }    #T_3d148fc0_de67_11e9_be16_802bf95f2e51row6_col5 {\n",
       "            background-color:  #f2cab5;\n",
       "            color:  #000000;\n",
       "        }    #T_3d148fc0_de67_11e9_be16_802bf95f2e51row6_col6 {\n",
       "            background-color:  #b40426;\n",
       "            color:  #f1f1f1;\n",
       "        }    #T_3d148fc0_de67_11e9_be16_802bf95f2e51row6_col7 {\n",
       "            background-color:  #f7ad90;\n",
       "            color:  #000000;\n",
       "        }    #T_3d148fc0_de67_11e9_be16_802bf95f2e51row6_col8 {\n",
       "            background-color:  #f2c9b4;\n",
       "            color:  #000000;\n",
       "        }    #T_3d148fc0_de67_11e9_be16_802bf95f2e51row6_col9 {\n",
       "            background-color:  #b5cdfa;\n",
       "            color:  #000000;\n",
       "        }    #T_3d148fc0_de67_11e9_be16_802bf95f2e51row6_col10 {\n",
       "            background-color:  #e7745b;\n",
       "            color:  #000000;\n",
       "        }    #T_3d148fc0_de67_11e9_be16_802bf95f2e51row7_col0 {\n",
       "            background-color:  #445acc;\n",
       "            color:  #f1f1f1;\n",
       "        }    #T_3d148fc0_de67_11e9_be16_802bf95f2e51row7_col1 {\n",
       "            background-color:  #efcfbf;\n",
       "            color:  #000000;\n",
       "        }    #T_3d148fc0_de67_11e9_be16_802bf95f2e51row7_col2 {\n",
       "            background-color:  #f29274;\n",
       "            color:  #000000;\n",
       "        }    #T_3d148fc0_de67_11e9_be16_802bf95f2e51row7_col3 {\n",
       "            background-color:  #f59c7d;\n",
       "            color:  #000000;\n",
       "        }    #T_3d148fc0_de67_11e9_be16_802bf95f2e51row7_col4 {\n",
       "            background-color:  #f7af91;\n",
       "            color:  #000000;\n",
       "        }    #T_3d148fc0_de67_11e9_be16_802bf95f2e51row7_col5 {\n",
       "            background-color:  #f5c1a9;\n",
       "            color:  #000000;\n",
       "        }    #T_3d148fc0_de67_11e9_be16_802bf95f2e51row7_col6 {\n",
       "            background-color:  #f7aa8c;\n",
       "            color:  #000000;\n",
       "        }    #T_3d148fc0_de67_11e9_be16_802bf95f2e51row7_col7 {\n",
       "            background-color:  #b40426;\n",
       "            color:  #f1f1f1;\n",
       "        }    #T_3d148fc0_de67_11e9_be16_802bf95f2e51row7_col8 {\n",
       "            background-color:  #f7b194;\n",
       "            color:  #000000;\n",
       "        }    #T_3d148fc0_de67_11e9_be16_802bf95f2e51row7_col9 {\n",
       "            background-color:  #b6cefa;\n",
       "            color:  #000000;\n",
       "        }    #T_3d148fc0_de67_11e9_be16_802bf95f2e51row7_col10 {\n",
       "            background-color:  #f18f71;\n",
       "            color:  #000000;\n",
       "        }    #T_3d148fc0_de67_11e9_be16_802bf95f2e51row8_col0 {\n",
       "            background-color:  #465ecf;\n",
       "            color:  #f1f1f1;\n",
       "        }    #T_3d148fc0_de67_11e9_be16_802bf95f2e51row8_col1 {\n",
       "            background-color:  #ebd3c6;\n",
       "            color:  #000000;\n",
       "        }    #T_3d148fc0_de67_11e9_be16_802bf95f2e51row8_col2 {\n",
       "            background-color:  #f5a081;\n",
       "            color:  #000000;\n",
       "        }    #T_3d148fc0_de67_11e9_be16_802bf95f2e51row8_col3 {\n",
       "            background-color:  #f5a081;\n",
       "            color:  #000000;\n",
       "        }    #T_3d148fc0_de67_11e9_be16_802bf95f2e51row8_col4 {\n",
       "            background-color:  #f5c4ac;\n",
       "            color:  #000000;\n",
       "        }    #T_3d148fc0_de67_11e9_be16_802bf95f2e51row8_col5 {\n",
       "            background-color:  #f6bea4;\n",
       "            color:  #000000;\n",
       "        }    #T_3d148fc0_de67_11e9_be16_802bf95f2e51row8_col6 {\n",
       "            background-color:  #f4c5ad;\n",
       "            color:  #000000;\n",
       "        }    #T_3d148fc0_de67_11e9_be16_802bf95f2e51row8_col7 {\n",
       "            background-color:  #f7b093;\n",
       "            color:  #000000;\n",
       "        }    #T_3d148fc0_de67_11e9_be16_802bf95f2e51row8_col8 {\n",
       "            background-color:  #b40426;\n",
       "            color:  #f1f1f1;\n",
       "        }    #T_3d148fc0_de67_11e9_be16_802bf95f2e51row8_col9 {\n",
       "            background-color:  #d1dae9;\n",
       "            color:  #000000;\n",
       "        }    #T_3d148fc0_de67_11e9_be16_802bf95f2e51row8_col10 {\n",
       "            background-color:  #f59c7d;\n",
       "            color:  #000000;\n",
       "        }    #T_3d148fc0_de67_11e9_be16_802bf95f2e51row9_col0 {\n",
       "            background-color:  #4a63d3;\n",
       "            color:  #f1f1f1;\n",
       "        }    #T_3d148fc0_de67_11e9_be16_802bf95f2e51row9_col1 {\n",
       "            background-color:  #bbd1f8;\n",
       "            color:  #000000;\n",
       "        }    #T_3d148fc0_de67_11e9_be16_802bf95f2e51row9_col2 {\n",
       "            background-color:  #d8dce2;\n",
       "            color:  #000000;\n",
       "        }    #T_3d148fc0_de67_11e9_be16_802bf95f2e51row9_col3 {\n",
       "            background-color:  #d3dbe7;\n",
       "            color:  #000000;\n",
       "        }    #T_3d148fc0_de67_11e9_be16_802bf95f2e51row9_col4 {\n",
       "            background-color:  #d2dbe8;\n",
       "            color:  #000000;\n",
       "        }    #T_3d148fc0_de67_11e9_be16_802bf95f2e51row9_col5 {\n",
       "            background-color:  #dedcdb;\n",
       "            color:  #000000;\n",
       "        }    #T_3d148fc0_de67_11e9_be16_802bf95f2e51row9_col6 {\n",
       "            background-color:  #bfd3f6;\n",
       "            color:  #000000;\n",
       "        }    #T_3d148fc0_de67_11e9_be16_802bf95f2e51row9_col7 {\n",
       "            background-color:  #bbd1f8;\n",
       "            color:  #000000;\n",
       "        }    #T_3d148fc0_de67_11e9_be16_802bf95f2e51row9_col8 {\n",
       "            background-color:  #d3dbe7;\n",
       "            color:  #000000;\n",
       "        }    #T_3d148fc0_de67_11e9_be16_802bf95f2e51row9_col9 {\n",
       "            background-color:  #b40426;\n",
       "            color:  #f1f1f1;\n",
       "        }    #T_3d148fc0_de67_11e9_be16_802bf95f2e51row9_col10 {\n",
       "            background-color:  #d4dbe6;\n",
       "            color:  #000000;\n",
       "        }    #T_3d148fc0_de67_11e9_be16_802bf95f2e51row10_col0 {\n",
       "            background-color:  #3e51c5;\n",
       "            color:  #f1f1f1;\n",
       "        }    #T_3d148fc0_de67_11e9_be16_802bf95f2e51row10_col1 {\n",
       "            background-color:  #f5a081;\n",
       "            color:  #000000;\n",
       "        }    #T_3d148fc0_de67_11e9_be16_802bf95f2e51row10_col2 {\n",
       "            background-color:  #e8765c;\n",
       "            color:  #000000;\n",
       "        }    #T_3d148fc0_de67_11e9_be16_802bf95f2e51row10_col3 {\n",
       "            background-color:  #e8765c;\n",
       "            color:  #000000;\n",
       "        }    #T_3d148fc0_de67_11e9_be16_802bf95f2e51row10_col4 {\n",
       "            background-color:  #f6a283;\n",
       "            color:  #000000;\n",
       "        }    #T_3d148fc0_de67_11e9_be16_802bf95f2e51row10_col5 {\n",
       "            background-color:  #f7aa8c;\n",
       "            color:  #000000;\n",
       "        }    #T_3d148fc0_de67_11e9_be16_802bf95f2e51row10_col6 {\n",
       "            background-color:  #e67259;\n",
       "            color:  #000000;\n",
       "        }    #T_3d148fc0_de67_11e9_be16_802bf95f2e51row10_col7 {\n",
       "            background-color:  #f29072;\n",
       "            color:  #000000;\n",
       "        }    #T_3d148fc0_de67_11e9_be16_802bf95f2e51row10_col8 {\n",
       "            background-color:  #f59f80;\n",
       "            color:  #000000;\n",
       "        }    #T_3d148fc0_de67_11e9_be16_802bf95f2e51row10_col9 {\n",
       "            background-color:  #cdd9ec;\n",
       "            color:  #000000;\n",
       "        }    #T_3d148fc0_de67_11e9_be16_802bf95f2e51row10_col10 {\n",
       "            background-color:  #b40426;\n",
       "            color:  #f1f1f1;\n",
       "        }</style><table id=\"T_3d148fc0_de67_11e9_be16_802bf95f2e51\" ><thead>    <tr>        <th class=\"blank level0\" ></th>        <th class=\"col_heading level0 col0\" >Sample code number</th>        <th class=\"col_heading level0 col1\" >Clump Thickness</th>        <th class=\"col_heading level0 col2\" >Uniformity of Cell Size</th>        <th class=\"col_heading level0 col3\" >Uniformity of Cell Shape</th>        <th class=\"col_heading level0 col4\" >Marginal Adhesion</th>        <th class=\"col_heading level0 col5\" >Single Epithelial Cell Size</th>        <th class=\"col_heading level0 col6\" >Bare Nuclei</th>        <th class=\"col_heading level0 col7\" >Bland Chromatin</th>        <th class=\"col_heading level0 col8\" >Normal Nucleoli</th>        <th class=\"col_heading level0 col9\" >Mitoses</th>        <th class=\"col_heading level0 col10\" >y</th>    </tr></thead><tbody>\n",
       "                <tr>\n",
       "                        <th id=\"T_3d148fc0_de67_11e9_be16_802bf95f2e51level0_row0\" class=\"row_heading level0 row0\" >Sample code number</th>\n",
       "                        <td id=\"T_3d148fc0_de67_11e9_be16_802bf95f2e51row0_col0\" class=\"data row0 col0\" >1</td>\n",
       "                        <td id=\"T_3d148fc0_de67_11e9_be16_802bf95f2e51row0_col1\" class=\"data row0 col1\" >-0.06</td>\n",
       "                        <td id=\"T_3d148fc0_de67_11e9_be16_802bf95f2e51row0_col2\" class=\"data row0 col2\" >-0.043</td>\n",
       "                        <td id=\"T_3d148fc0_de67_11e9_be16_802bf95f2e51row0_col3\" class=\"data row0 col3\" >-0.042</td>\n",
       "                        <td id=\"T_3d148fc0_de67_11e9_be16_802bf95f2e51row0_col4\" class=\"data row0 col4\" >-0.071</td>\n",
       "                        <td id=\"T_3d148fc0_de67_11e9_be16_802bf95f2e51row0_col5\" class=\"data row0 col5\" >-0.05</td>\n",
       "                        <td id=\"T_3d148fc0_de67_11e9_be16_802bf95f2e51row0_col6\" class=\"data row0 col6\" >-0.098</td>\n",
       "                        <td id=\"T_3d148fc0_de67_11e9_be16_802bf95f2e51row0_col7\" class=\"data row0 col7\" >-0.062</td>\n",
       "                        <td id=\"T_3d148fc0_de67_11e9_be16_802bf95f2e51row0_col8\" class=\"data row0 col8\" >-0.053</td>\n",
       "                        <td id=\"T_3d148fc0_de67_11e9_be16_802bf95f2e51row0_col9\" class=\"data row0 col9\" >-0.039</td>\n",
       "                        <td id=\"T_3d148fc0_de67_11e9_be16_802bf95f2e51row0_col10\" class=\"data row0 col10\" >-0.084</td>\n",
       "            </tr>\n",
       "            <tr>\n",
       "                        <th id=\"T_3d148fc0_de67_11e9_be16_802bf95f2e51level0_row1\" class=\"row_heading level0 row1\" >Clump Thickness</th>\n",
       "                        <td id=\"T_3d148fc0_de67_11e9_be16_802bf95f2e51row1_col0\" class=\"data row1 col0\" >-0.06</td>\n",
       "                        <td id=\"T_3d148fc0_de67_11e9_be16_802bf95f2e51row1_col1\" class=\"data row1 col1\" >1</td>\n",
       "                        <td id=\"T_3d148fc0_de67_11e9_be16_802bf95f2e51row1_col2\" class=\"data row1 col2\" >0.64</td>\n",
       "                        <td id=\"T_3d148fc0_de67_11e9_be16_802bf95f2e51row1_col3\" class=\"data row1 col3\" >0.65</td>\n",
       "                        <td id=\"T_3d148fc0_de67_11e9_be16_802bf95f2e51row1_col4\" class=\"data row1 col4\" >0.49</td>\n",
       "                        <td id=\"T_3d148fc0_de67_11e9_be16_802bf95f2e51row1_col5\" class=\"data row1 col5\" >0.52</td>\n",
       "                        <td id=\"T_3d148fc0_de67_11e9_be16_802bf95f2e51row1_col6\" class=\"data row1 col6\" >0.6</td>\n",
       "                        <td id=\"T_3d148fc0_de67_11e9_be16_802bf95f2e51row1_col7\" class=\"data row1 col7\" >0.55</td>\n",
       "                        <td id=\"T_3d148fc0_de67_11e9_be16_802bf95f2e51row1_col8\" class=\"data row1 col8\" >0.53</td>\n",
       "                        <td id=\"T_3d148fc0_de67_11e9_be16_802bf95f2e51row1_col9\" class=\"data row1 col9\" >0.35</td>\n",
       "                        <td id=\"T_3d148fc0_de67_11e9_be16_802bf95f2e51row1_col10\" class=\"data row1 col10\" >0.72</td>\n",
       "            </tr>\n",
       "            <tr>\n",
       "                        <th id=\"T_3d148fc0_de67_11e9_be16_802bf95f2e51level0_row2\" class=\"row_heading level0 row2\" >Uniformity of Cell Size</th>\n",
       "                        <td id=\"T_3d148fc0_de67_11e9_be16_802bf95f2e51row2_col0\" class=\"data row2 col0\" >-0.043</td>\n",
       "                        <td id=\"T_3d148fc0_de67_11e9_be16_802bf95f2e51row2_col1\" class=\"data row2 col1\" >0.64</td>\n",
       "                        <td id=\"T_3d148fc0_de67_11e9_be16_802bf95f2e51row2_col2\" class=\"data row2 col2\" >1</td>\n",
       "                        <td id=\"T_3d148fc0_de67_11e9_be16_802bf95f2e51row2_col3\" class=\"data row2 col3\" >0.91</td>\n",
       "                        <td id=\"T_3d148fc0_de67_11e9_be16_802bf95f2e51row2_col4\" class=\"data row2 col4\" >0.71</td>\n",
       "                        <td id=\"T_3d148fc0_de67_11e9_be16_802bf95f2e51row2_col5\" class=\"data row2 col5\" >0.75</td>\n",
       "                        <td id=\"T_3d148fc0_de67_11e9_be16_802bf95f2e51row2_col6\" class=\"data row2 col6\" >0.69</td>\n",
       "                        <td id=\"T_3d148fc0_de67_11e9_be16_802bf95f2e51row2_col7\" class=\"data row2 col7\" >0.76</td>\n",
       "                        <td id=\"T_3d148fc0_de67_11e9_be16_802bf95f2e51row2_col8\" class=\"data row2 col8\" >0.72</td>\n",
       "                        <td id=\"T_3d148fc0_de67_11e9_be16_802bf95f2e51row2_col9\" class=\"data row2 col9\" >0.46</td>\n",
       "                        <td id=\"T_3d148fc0_de67_11e9_be16_802bf95f2e51row2_col10\" class=\"data row2 col10\" >0.82</td>\n",
       "            </tr>\n",
       "            <tr>\n",
       "                        <th id=\"T_3d148fc0_de67_11e9_be16_802bf95f2e51level0_row3\" class=\"row_heading level0 row3\" >Uniformity of Cell Shape</th>\n",
       "                        <td id=\"T_3d148fc0_de67_11e9_be16_802bf95f2e51row3_col0\" class=\"data row3 col0\" >-0.042</td>\n",
       "                        <td id=\"T_3d148fc0_de67_11e9_be16_802bf95f2e51row3_col1\" class=\"data row3 col1\" >0.65</td>\n",
       "                        <td id=\"T_3d148fc0_de67_11e9_be16_802bf95f2e51row3_col2\" class=\"data row3 col2\" >0.91</td>\n",
       "                        <td id=\"T_3d148fc0_de67_11e9_be16_802bf95f2e51row3_col3\" class=\"data row3 col3\" >1</td>\n",
       "                        <td id=\"T_3d148fc0_de67_11e9_be16_802bf95f2e51row3_col4\" class=\"data row3 col4\" >0.69</td>\n",
       "                        <td id=\"T_3d148fc0_de67_11e9_be16_802bf95f2e51row3_col5\" class=\"data row3 col5\" >0.72</td>\n",
       "                        <td id=\"T_3d148fc0_de67_11e9_be16_802bf95f2e51row3_col6\" class=\"data row3 col6\" >0.71</td>\n",
       "                        <td id=\"T_3d148fc0_de67_11e9_be16_802bf95f2e51row3_col7\" class=\"data row3 col7\" >0.73</td>\n",
       "                        <td id=\"T_3d148fc0_de67_11e9_be16_802bf95f2e51row3_col8\" class=\"data row3 col8\" >0.72</td>\n",
       "                        <td id=\"T_3d148fc0_de67_11e9_be16_802bf95f2e51row3_col9\" class=\"data row3 col9\" >0.44</td>\n",
       "                        <td id=\"T_3d148fc0_de67_11e9_be16_802bf95f2e51row3_col10\" class=\"data row3 col10\" >0.82</td>\n",
       "            </tr>\n",
       "            <tr>\n",
       "                        <th id=\"T_3d148fc0_de67_11e9_be16_802bf95f2e51level0_row4\" class=\"row_heading level0 row4\" >Marginal Adhesion</th>\n",
       "                        <td id=\"T_3d148fc0_de67_11e9_be16_802bf95f2e51row4_col0\" class=\"data row4 col0\" >-0.071</td>\n",
       "                        <td id=\"T_3d148fc0_de67_11e9_be16_802bf95f2e51row4_col1\" class=\"data row4 col1\" >0.49</td>\n",
       "                        <td id=\"T_3d148fc0_de67_11e9_be16_802bf95f2e51row4_col2\" class=\"data row4 col2\" >0.71</td>\n",
       "                        <td id=\"T_3d148fc0_de67_11e9_be16_802bf95f2e51row4_col3\" class=\"data row4 col3\" >0.69</td>\n",
       "                        <td id=\"T_3d148fc0_de67_11e9_be16_802bf95f2e51row4_col4\" class=\"data row4 col4\" >1</td>\n",
       "                        <td id=\"T_3d148fc0_de67_11e9_be16_802bf95f2e51row4_col5\" class=\"data row4 col5\" >0.6</td>\n",
       "                        <td id=\"T_3d148fc0_de67_11e9_be16_802bf95f2e51row4_col6\" class=\"data row4 col6\" >0.67</td>\n",
       "                        <td id=\"T_3d148fc0_de67_11e9_be16_802bf95f2e51row4_col7\" class=\"data row4 col7\" >0.67</td>\n",
       "                        <td id=\"T_3d148fc0_de67_11e9_be16_802bf95f2e51row4_col8\" class=\"data row4 col8\" >0.6</td>\n",
       "                        <td id=\"T_3d148fc0_de67_11e9_be16_802bf95f2e51row4_col9\" class=\"data row4 col9\" >0.42</td>\n",
       "                        <td id=\"T_3d148fc0_de67_11e9_be16_802bf95f2e51row4_col10\" class=\"data row4 col10\" >0.71</td>\n",
       "            </tr>\n",
       "            <tr>\n",
       "                        <th id=\"T_3d148fc0_de67_11e9_be16_802bf95f2e51level0_row5\" class=\"row_heading level0 row5\" >Single Epithelial Cell Size</th>\n",
       "                        <td id=\"T_3d148fc0_de67_11e9_be16_802bf95f2e51row5_col0\" class=\"data row5 col0\" >-0.05</td>\n",
       "                        <td id=\"T_3d148fc0_de67_11e9_be16_802bf95f2e51row5_col1\" class=\"data row5 col1\" >0.52</td>\n",
       "                        <td id=\"T_3d148fc0_de67_11e9_be16_802bf95f2e51row5_col2\" class=\"data row5 col2\" >0.75</td>\n",
       "                        <td id=\"T_3d148fc0_de67_11e9_be16_802bf95f2e51row5_col3\" class=\"data row5 col3\" >0.72</td>\n",
       "                        <td id=\"T_3d148fc0_de67_11e9_be16_802bf95f2e51row5_col4\" class=\"data row5 col4\" >0.6</td>\n",
       "                        <td id=\"T_3d148fc0_de67_11e9_be16_802bf95f2e51row5_col5\" class=\"data row5 col5\" >1</td>\n",
       "                        <td id=\"T_3d148fc0_de67_11e9_be16_802bf95f2e51row5_col6\" class=\"data row5 col6\" >0.58</td>\n",
       "                        <td id=\"T_3d148fc0_de67_11e9_be16_802bf95f2e51row5_col7\" class=\"data row5 col7\" >0.62</td>\n",
       "                        <td id=\"T_3d148fc0_de67_11e9_be16_802bf95f2e51row5_col8\" class=\"data row5 col8\" >0.63</td>\n",
       "                        <td id=\"T_3d148fc0_de67_11e9_be16_802bf95f2e51row5_col9\" class=\"data row5 col9\" >0.48</td>\n",
       "                        <td id=\"T_3d148fc0_de67_11e9_be16_802bf95f2e51row5_col10\" class=\"data row5 col10\" >0.69</td>\n",
       "            </tr>\n",
       "            <tr>\n",
       "                        <th id=\"T_3d148fc0_de67_11e9_be16_802bf95f2e51level0_row6\" class=\"row_heading level0 row6\" >Bare Nuclei</th>\n",
       "                        <td id=\"T_3d148fc0_de67_11e9_be16_802bf95f2e51row6_col0\" class=\"data row6 col0\" >-0.098</td>\n",
       "                        <td id=\"T_3d148fc0_de67_11e9_be16_802bf95f2e51row6_col1\" class=\"data row6 col1\" >0.6</td>\n",
       "                        <td id=\"T_3d148fc0_de67_11e9_be16_802bf95f2e51row6_col2\" class=\"data row6 col2\" >0.69</td>\n",
       "                        <td id=\"T_3d148fc0_de67_11e9_be16_802bf95f2e51row6_col3\" class=\"data row6 col3\" >0.71</td>\n",
       "                        <td id=\"T_3d148fc0_de67_11e9_be16_802bf95f2e51row6_col4\" class=\"data row6 col4\" >0.67</td>\n",
       "                        <td id=\"T_3d148fc0_de67_11e9_be16_802bf95f2e51row6_col5\" class=\"data row6 col5\" >0.58</td>\n",
       "                        <td id=\"T_3d148fc0_de67_11e9_be16_802bf95f2e51row6_col6\" class=\"data row6 col6\" >1</td>\n",
       "                        <td id=\"T_3d148fc0_de67_11e9_be16_802bf95f2e51row6_col7\" class=\"data row6 col7\" >0.68</td>\n",
       "                        <td id=\"T_3d148fc0_de67_11e9_be16_802bf95f2e51row6_col8\" class=\"data row6 col8\" >0.59</td>\n",
       "                        <td id=\"T_3d148fc0_de67_11e9_be16_802bf95f2e51row6_col9\" class=\"data row6 col9\" >0.34</td>\n",
       "                        <td id=\"T_3d148fc0_de67_11e9_be16_802bf95f2e51row6_col10\" class=\"data row6 col10\" >0.82</td>\n",
       "            </tr>\n",
       "            <tr>\n",
       "                        <th id=\"T_3d148fc0_de67_11e9_be16_802bf95f2e51level0_row7\" class=\"row_heading level0 row7\" >Bland Chromatin</th>\n",
       "                        <td id=\"T_3d148fc0_de67_11e9_be16_802bf95f2e51row7_col0\" class=\"data row7 col0\" >-0.062</td>\n",
       "                        <td id=\"T_3d148fc0_de67_11e9_be16_802bf95f2e51row7_col1\" class=\"data row7 col1\" >0.55</td>\n",
       "                        <td id=\"T_3d148fc0_de67_11e9_be16_802bf95f2e51row7_col2\" class=\"data row7 col2\" >0.76</td>\n",
       "                        <td id=\"T_3d148fc0_de67_11e9_be16_802bf95f2e51row7_col3\" class=\"data row7 col3\" >0.73</td>\n",
       "                        <td id=\"T_3d148fc0_de67_11e9_be16_802bf95f2e51row7_col4\" class=\"data row7 col4\" >0.67</td>\n",
       "                        <td id=\"T_3d148fc0_de67_11e9_be16_802bf95f2e51row7_col5\" class=\"data row7 col5\" >0.62</td>\n",
       "                        <td id=\"T_3d148fc0_de67_11e9_be16_802bf95f2e51row7_col6\" class=\"data row7 col6\" >0.68</td>\n",
       "                        <td id=\"T_3d148fc0_de67_11e9_be16_802bf95f2e51row7_col7\" class=\"data row7 col7\" >1</td>\n",
       "                        <td id=\"T_3d148fc0_de67_11e9_be16_802bf95f2e51row7_col8\" class=\"data row7 col8\" >0.67</td>\n",
       "                        <td id=\"T_3d148fc0_de67_11e9_be16_802bf95f2e51row7_col9\" class=\"data row7 col9\" >0.35</td>\n",
       "                        <td id=\"T_3d148fc0_de67_11e9_be16_802bf95f2e51row7_col10\" class=\"data row7 col10\" >0.76</td>\n",
       "            </tr>\n",
       "            <tr>\n",
       "                        <th id=\"T_3d148fc0_de67_11e9_be16_802bf95f2e51level0_row8\" class=\"row_heading level0 row8\" >Normal Nucleoli</th>\n",
       "                        <td id=\"T_3d148fc0_de67_11e9_be16_802bf95f2e51row8_col0\" class=\"data row8 col0\" >-0.053</td>\n",
       "                        <td id=\"T_3d148fc0_de67_11e9_be16_802bf95f2e51row8_col1\" class=\"data row8 col1\" >0.53</td>\n",
       "                        <td id=\"T_3d148fc0_de67_11e9_be16_802bf95f2e51row8_col2\" class=\"data row8 col2\" >0.72</td>\n",
       "                        <td id=\"T_3d148fc0_de67_11e9_be16_802bf95f2e51row8_col3\" class=\"data row8 col3\" >0.72</td>\n",
       "                        <td id=\"T_3d148fc0_de67_11e9_be16_802bf95f2e51row8_col4\" class=\"data row8 col4\" >0.6</td>\n",
       "                        <td id=\"T_3d148fc0_de67_11e9_be16_802bf95f2e51row8_col5\" class=\"data row8 col5\" >0.63</td>\n",
       "                        <td id=\"T_3d148fc0_de67_11e9_be16_802bf95f2e51row8_col6\" class=\"data row8 col6\" >0.59</td>\n",
       "                        <td id=\"T_3d148fc0_de67_11e9_be16_802bf95f2e51row8_col7\" class=\"data row8 col7\" >0.67</td>\n",
       "                        <td id=\"T_3d148fc0_de67_11e9_be16_802bf95f2e51row8_col8\" class=\"data row8 col8\" >1</td>\n",
       "                        <td id=\"T_3d148fc0_de67_11e9_be16_802bf95f2e51row8_col9\" class=\"data row8 col9\" >0.43</td>\n",
       "                        <td id=\"T_3d148fc0_de67_11e9_be16_802bf95f2e51row8_col10\" class=\"data row8 col10\" >0.72</td>\n",
       "            </tr>\n",
       "            <tr>\n",
       "                        <th id=\"T_3d148fc0_de67_11e9_be16_802bf95f2e51level0_row9\" class=\"row_heading level0 row9\" >Mitoses</th>\n",
       "                        <td id=\"T_3d148fc0_de67_11e9_be16_802bf95f2e51row9_col0\" class=\"data row9 col0\" >-0.039</td>\n",
       "                        <td id=\"T_3d148fc0_de67_11e9_be16_802bf95f2e51row9_col1\" class=\"data row9 col1\" >0.35</td>\n",
       "                        <td id=\"T_3d148fc0_de67_11e9_be16_802bf95f2e51row9_col2\" class=\"data row9 col2\" >0.46</td>\n",
       "                        <td id=\"T_3d148fc0_de67_11e9_be16_802bf95f2e51row9_col3\" class=\"data row9 col3\" >0.44</td>\n",
       "                        <td id=\"T_3d148fc0_de67_11e9_be16_802bf95f2e51row9_col4\" class=\"data row9 col4\" >0.42</td>\n",
       "                        <td id=\"T_3d148fc0_de67_11e9_be16_802bf95f2e51row9_col5\" class=\"data row9 col5\" >0.48</td>\n",
       "                        <td id=\"T_3d148fc0_de67_11e9_be16_802bf95f2e51row9_col6\" class=\"data row9 col6\" >0.34</td>\n",
       "                        <td id=\"T_3d148fc0_de67_11e9_be16_802bf95f2e51row9_col7\" class=\"data row9 col7\" >0.35</td>\n",
       "                        <td id=\"T_3d148fc0_de67_11e9_be16_802bf95f2e51row9_col8\" class=\"data row9 col8\" >0.43</td>\n",
       "                        <td id=\"T_3d148fc0_de67_11e9_be16_802bf95f2e51row9_col9\" class=\"data row9 col9\" >1</td>\n",
       "                        <td id=\"T_3d148fc0_de67_11e9_be16_802bf95f2e51row9_col10\" class=\"data row9 col10\" >0.42</td>\n",
       "            </tr>\n",
       "            <tr>\n",
       "                        <th id=\"T_3d148fc0_de67_11e9_be16_802bf95f2e51level0_row10\" class=\"row_heading level0 row10\" >y</th>\n",
       "                        <td id=\"T_3d148fc0_de67_11e9_be16_802bf95f2e51row10_col0\" class=\"data row10 col0\" >-0.084</td>\n",
       "                        <td id=\"T_3d148fc0_de67_11e9_be16_802bf95f2e51row10_col1\" class=\"data row10 col1\" >0.72</td>\n",
       "                        <td id=\"T_3d148fc0_de67_11e9_be16_802bf95f2e51row10_col2\" class=\"data row10 col2\" >0.82</td>\n",
       "                        <td id=\"T_3d148fc0_de67_11e9_be16_802bf95f2e51row10_col3\" class=\"data row10 col3\" >0.82</td>\n",
       "                        <td id=\"T_3d148fc0_de67_11e9_be16_802bf95f2e51row10_col4\" class=\"data row10 col4\" >0.71</td>\n",
       "                        <td id=\"T_3d148fc0_de67_11e9_be16_802bf95f2e51row10_col5\" class=\"data row10 col5\" >0.69</td>\n",
       "                        <td id=\"T_3d148fc0_de67_11e9_be16_802bf95f2e51row10_col6\" class=\"data row10 col6\" >0.82</td>\n",
       "                        <td id=\"T_3d148fc0_de67_11e9_be16_802bf95f2e51row10_col7\" class=\"data row10 col7\" >0.76</td>\n",
       "                        <td id=\"T_3d148fc0_de67_11e9_be16_802bf95f2e51row10_col8\" class=\"data row10 col8\" >0.72</td>\n",
       "                        <td id=\"T_3d148fc0_de67_11e9_be16_802bf95f2e51row10_col9\" class=\"data row10 col9\" >0.42</td>\n",
       "                        <td id=\"T_3d148fc0_de67_11e9_be16_802bf95f2e51row10_col10\" class=\"data row10 col10\" >1</td>\n",
       "            </tr>\n",
       "    </tbody></table>"
      ],
      "text/plain": [
       "<pandas.io.formats.style.Styler at 0x7f823637f198>"
      ]
     },
     "execution_count": 140,
     "metadata": {},
     "output_type": "execute_result"
    }
   ],
   "source": [
    "corr = clean_data[x_vars + ['y']].corr()\n",
    "corr.style.background_gradient(cmap='coolwarm').set_precision(2)"
   ]
  },
  {
   "cell_type": "raw",
   "metadata": {},
   "source": [
    "Here we can witness much stronger correlations than with the wine dataset"
   ]
  },
  {
   "cell_type": "markdown",
   "metadata": {},
   "source": [
    "# 4 - Turn the dataframe into a Numpy array for the rest of the project"
   ]
  },
  {
   "cell_type": "code",
   "execution_count": 141,
   "metadata": {},
   "outputs": [
    {
     "name": "stdout",
     "output_type": "stream",
     "text": [
      "[[1000025       5       1 ...       3       1       1]\n",
      " [1002945       5       4 ...       3       2       1]\n",
      " [1015425       3       1 ...       3       1       1]\n",
      " ...\n",
      " [ 888820       5      10 ...       8      10       2]\n",
      " [ 897471       4       8 ...      10       6       1]\n",
      " [ 897471       4       8 ...      10       4       1]]\n",
      "[0. 0. 0. 0. 0. 1. 0. 0. 0. 0. 0. 0. 1. 0. 1. 1. 0. 0. 1. 0. 1. 1. 0. 0.\n",
      " 1. 0. 0. 0. 0. 0. 0. 1. 0. 0. 0. 1. 0. 1. 1. 1. 1. 1. 1. 0. 1. 0. 0. 1.\n",
      " 1. 1. 1. 1. 1. 1. 1. 1. 1. 1. 1. 0. 1. 1. 0. 1. 0. 1. 1. 0. 0. 1. 0. 1.\n",
      " 1. 0. 0. 0. 0. 0. 0. 0. 0. 0. 1. 1. 1. 1. 0. 0. 0. 0. 0. 0. 0. 0. 0. 0.\n",
      " 1. 1. 1. 1. 0. 1. 1. 1. 1. 1. 0. 1. 0. 1. 1. 1. 0. 0. 0. 1. 0. 0. 0. 0.\n",
      " 1. 1. 1. 0. 1. 0. 1. 0. 0. 0. 1. 0. 0. 0. 0. 0. 0. 0. 0. 1. 0. 0. 1. 0.\n",
      " 0. 1. 0. 1. 1. 0. 0. 1. 0. 0. 1. 1. 0. 0. 0. 0. 1. 1. 0. 0. 0. 0. 0. 1.\n",
      " 1. 1. 0. 1. 0. 1. 0. 0. 0. 1. 1. 0. 1. 1. 1. 0. 1. 1. 0. 0. 0. 0. 0. 0.\n",
      " 0. 0. 1. 1. 0. 0. 0. 1. 1. 0. 0. 1. 1. 0. 1. 1. 1. 0. 0. 1. 0. 0. 1. 1.\n",
      " 1. 1. 0. 1. 1. 0. 1. 1. 1. 0. 1. 0. 1. 1. 1. 1. 0. 0. 0. 0. 0. 0. 1. 1.\n",
      " 0. 0. 1. 0. 1. 1. 0. 0. 0. 1. 1. 1. 1. 1. 0. 1. 1. 1. 0. 1. 0. 1. 0. 0.\n",
      " 0. 0. 1. 0. 0. 1. 1. 1. 1. 1. 0. 1. 1. 0. 0. 1. 1. 0. 0. 1. 1. 0. 1. 0.\n",
      " 1. 1. 0. 0. 1. 0. 0. 0. 1. 0. 0. 1. 1. 0. 0. 1. 0. 1. 0. 0. 1. 0. 1. 1.\n",
      " 1. 0. 0. 1. 1. 0. 1. 0. 1. 1. 0. 0. 0. 1. 0. 0. 0. 1. 1. 0. 0. 0. 1. 0.\n",
      " 0. 1. 1. 1. 1. 1. 1. 0. 0. 0. 0. 1. 1. 0. 0. 0. 0. 0. 0. 0. 0. 0. 0. 0.\n",
      " 0. 0. 1. 0. 0. 0. 0. 1. 0. 0. 0. 0. 1. 0. 0. 0. 0. 0. 0. 0. 0. 1. 0. 0.\n",
      " 0. 0. 0. 0. 0. 0. 0. 0. 1. 0. 1. 0. 1. 0. 0. 0. 0. 1. 0. 0. 0. 1. 0. 1.\n",
      " 0. 0. 0. 0. 0. 0. 0. 1. 1. 0. 0. 0. 1. 0. 0. 0. 0. 0. 0. 0. 0. 1. 0. 0.\n",
      " 0. 1. 0. 1. 1. 1. 0. 0. 0. 0. 0. 0. 0. 1. 1. 1. 0. 0. 0. 0. 0. 0. 0. 0.\n",
      " 0. 0. 0. 1. 0. 0. 1. 1. 0. 0. 0. 1. 1. 1. 0. 1. 0. 1. 0. 0. 0. 0. 0. 0.\n",
      " 0. 0. 0. 0. 0. 0. 1. 0. 0. 0. 0. 0. 0. 0. 1. 1. 0. 0. 0. 1. 0. 0. 1. 1.\n",
      " 0. 0. 0. 0. 0. 0. 1. 0. 0. 0. 0. 0. 0. 0. 0. 0. 0. 0. 0. 0. 0. 0. 1. 0.\n",
      " 0. 1. 0. 0. 0. 0. 0. 0. 0. 0. 0. 0. 0. 0. 0. 0. 1. 0. 0. 1. 1. 1. 1. 0.\n",
      " 0. 1. 0. 0. 0. 0. 0. 0. 1. 1. 0. 0. 0. 1. 0. 1. 0. 1. 1. 1. 0. 1. 0. 0.\n",
      " 0. 0. 0. 0. 0. 0. 1. 1. 1. 0. 0. 1. 0. 1. 1. 1. 0. 0. 0. 0. 0. 0. 0. 0.\n",
      " 0. 0. 0. 0. 1. 0. 0. 0. 0. 0. 0. 1. 0. 0. 1. 0. 0. 0. 0. 0. 0. 0. 0. 0.\n",
      " 0. 0. 1. 0. 0. 0. 0. 0. 0. 0. 0. 0. 1. 0. 0. 0. 0. 0. 0. 0. 0. 0. 1. 1.\n",
      " 1. 0. 0. 0. 0. 0. 0. 0. 0. 0. 1. 1. 0. 0. 0. 0. 0. 0. 0. 0. 1. 0. 0. 0.\n",
      " 0. 1. 1. 1.]\n"
     ]
    }
   ],
   "source": [
    "def dataframe_to_narray(df, x_vars, y_var):\n",
    "    \n",
    "    X = df[x_vars].to_numpy()\n",
    "    y = df[y_var].to_numpy()\n",
    "    \n",
    "    return X,y\n",
    "    \n",
    "X, y = dataframe_to_narray(clean_data, x_vars, 'y')\n",
    "\n",
    "print(X)\n",
    "print(y)"
   ]
  },
  {
   "cell_type": "code",
   "execution_count": null,
   "metadata": {},
   "outputs": [],
   "source": []
  }
 ],
 "metadata": {
  "kernelspec": {
   "display_name": "Python 3",
   "language": "python",
   "name": "python3"
  },
  "language_info": {
   "codemirror_mode": {
    "name": "ipython",
    "version": 3
   },
   "file_extension": ".py",
   "mimetype": "text/x-python",
   "name": "python",
   "nbconvert_exporter": "python",
   "pygments_lexer": "ipython3",
   "version": "3.6.6"
  }
 },
 "nbformat": 4,
 "nbformat_minor": 2
}
